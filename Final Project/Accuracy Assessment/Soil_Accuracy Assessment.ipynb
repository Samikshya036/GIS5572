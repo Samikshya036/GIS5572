{
 "cells": [
  {
   "cell_type": "markdown",
   "metadata": {},
   "source": [
    "# Accuracy Assessment_Soil Moisture\n",
    "- We compare the SMAP Soil Moisture data and NDAWN station Soil Moisture data"
   ]
  },
  {
   "cell_type": "markdown",
   "metadata": {},
   "source": [
    "#### Package"
   ]
  },
  {
   "cell_type": "code",
   "execution_count": 1,
   "metadata": {},
   "outputs": [],
   "source": [
    "import arcpy\n",
    "import os\n",
    "import pandas as pd\n",
    "import numpy as np\n",
    "from sklearn.linear_model import LinearRegression\n",
    "from sklearn.metrics import r2_score"
   ]
  },
  {
   "cell_type": "markdown",
   "metadata": {},
   "source": [
    "#### Workspace"
   ]
  },
  {
   "cell_type": "code",
   "execution_count": 2,
   "metadata": {},
   "outputs": [],
   "source": [
    "arcpy.env.workspace = r\"D:\\spring2024\\GIS5572\\Final\\Final project GIS5572.gdb\""
   ]
  },
  {
   "cell_type": "markdown",
   "metadata": {},
   "source": [
    "### Accuracy Assessment"
   ]
  },
  {
   "cell_type": "code",
   "execution_count": 3,
   "metadata": {},
   "outputs": [],
   "source": [
    "def differences_soil(true_points, compare_points):\n",
    "    \n",
    "    # get the name of interpolation method as part of the output point layer \n",
    "    comparation = os.path.basename(compare_points)\n",
    "    \n",
    "    # spatal join\n",
    "    output_join = f\"diff_{comparation}\"\n",
    "    arcpy.analysis.SpatialJoin(true_points, compare_points, output_join, \"JOIN_ONE_TO_ONE\", \"KEEP_ALL\", \"\", \"CLOSEST\")\n",
    "\n",
    "    # rename column\n",
    "    arcpy.management.AlterField(output_join, \"vwc\", \"ground_truth\", \"ground_truth\")\n",
    "    arcpy.management.AlterField(output_join, \"grid_code\", \"compare\", \"compare\")\n",
    "\n",
    "    # calculate difference\n",
    "    fields = [\"station_name\", \"ground_truth\", \"compare\", \"residual\"] # vwc = Volumetric Water Conten\n",
    "    arcpy.management.AddField(output_join, \"residual\", \"DOUBLE\")\n",
    "    with arcpy.da.UpdateCursor(output_join, fields) as cursor:\n",
    "        for row in cursor:\n",
    "            row[3] = row[1] - row[2]  # \"ground_truth\" - \"prediction\"\n",
    "            cursor.updateRow(row)\n",
    "    arcpy.management.DeleteField(output_join,\"Join_Count;TARGET_FID;elevation;pointid;year;month;day\",\"DELETE_FIELDS\")\n",
    "    \n",
    "    print(f\"Difference {comparation} points layer created.\")\n"
   ]
  },
  {
   "cell_type": "code",
   "execution_count": 4,
   "metadata": {},
   "outputs": [
    {
     "name": "stdout",
     "output_type": "stream",
     "text": [
      "Difference Soil_Moisture_202404_pm_Clip points layer created.\n"
     ]
    }
   ],
   "source": [
    "true_points = \"Soil_Clip\"\n",
    "compare_points = \"Soil_Moisture_202404_pm_Clip\"\n",
    "\n",
    "\n",
    "differences_soil(true_points, compare_points)\n"
   ]
  },
  {
   "cell_type": "markdown",
   "metadata": {},
   "source": [
    "### Defince the RMSE, MAE, R^2 function"
   ]
  },
  {
   "cell_type": "code",
   "execution_count": 5,
   "metadata": {},
   "outputs": [],
   "source": [
    "# RMSE\n",
    "def RMSE(data):\n",
    "    residual_squared_sum = 0\n",
    "    count = 0\n",
    "    for row in arcpy.da.SearchCursor(data, ['residual']):\n",
    "        residual_squared_sum += row[0] ** 2\n",
    "        count += 1\n",
    "            \n",
    "    rmse = (residual_squared_sum / count) ** 0.5\n",
    "    return rmse\n",
    "\n"
   ]
  },
  {
   "cell_type": "code",
   "execution_count": 6,
   "metadata": {},
   "outputs": [],
   "source": [
    "# Mean Absolute Error\n",
    "def MAE(data):\n",
    "    absolute_errors = []\n",
    "    with arcpy.da.SearchCursor(data, [\"ground_truth\", \"compare\"]) as cursor:\n",
    "        for row in cursor:\n",
    "            ground_truth = row[0]\n",
    "            prediction = row[1]\n",
    "            absolute_errors.append(abs(ground_truth - prediction))\n",
    "    \n",
    "    \n",
    "    mae = sum(absolute_errors) / len(absolute_errors)\n",
    "    return mae\n"
   ]
  },
  {
   "cell_type": "code",
   "execution_count": 7,
   "metadata": {},
   "outputs": [],
   "source": [
    "# Coefficient Of Determination\n",
    "def R_squared(data):\n",
    "    y_true = []\n",
    "    y_pred = []\n",
    "    \n",
    "    with arcpy.da.SearchCursor(data, [\"ground_truth\", \"compare\"]) as cursor:\n",
    "        for row in cursor:\n",
    "            y_true.append(row[0])\n",
    "            y_pred.append(row[1])\n",
    "    \n",
    "    y_mean = sum(y_true) / len(y_true)    \n",
    "    ss_total = sum((y_i - y_mean) ** 2 for y_i in y_true)   \n",
    "    ss_residual = sum((y_true[i] - y_pred[i]) ** 2 for i in range(len(y_true)))   \n",
    "    r_squared = 1 - (ss_residual / ss_total)   \n",
    "    return r_squared\n"
   ]
  },
  {
   "cell_type": "code",
   "execution_count": 9,
   "metadata": {},
   "outputs": [
    {
     "name": "stdout",
     "output_type": "stream",
     "text": [
      "Soil_Moisture RMSE: 0.136732249262533\n",
      "Soil_Moisture MAE: 0.12204098290205002\n",
      "Soil_Moisture R^2: -2.0927272407297624\n"
     ]
    }
   ],
   "source": [
    "diff_result = \"diff_Soil_Moisture_202404_pm_Clip\"\n",
    "\n",
    "print(\"Soil_Moisture RMSE:\", RMSE(diff_result))\n",
    "    \n",
    "print(\"Soil_Moisture MAE:\", MAE(diff_result))\n",
    "\n",
    "print(\"Soil_Moisture R^2:\", R_squared(diff_result))"
   ]
  }
 ],
 "metadata": {
  "kernelspec": {
   "display_name": "ArcGISPro",
   "language": "Python",
   "name": "python3"
  },
  "language_info": {
   "file_extension": ".py",
   "name": "python",
   "version": "3"
  }
 },
 "nbformat": 4,
 "nbformat_minor": 2
}
