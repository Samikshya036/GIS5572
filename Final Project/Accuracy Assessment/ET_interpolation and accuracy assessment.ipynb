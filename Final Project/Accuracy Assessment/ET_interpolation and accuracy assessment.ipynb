{
 "cells": [
  {
   "cell_type": "markdown",
   "metadata": {},
   "source": [
    "## Evapotranspiration Interpolation, Accuracy Assessment and PostGIS \n",
    "\n",
    "### Data Preparation\n",
    "- Load ET data for July 2022 and July 2023.\n",
    "- Prepare ground-truth data.\n",
    "\n",
    "### Interpolation\n",
    "- Perform IDW, Ordinary Kriging, and Universal Kriging interpolation.\n",
    "\n",
    "### Accuracy Assessment\n",
    "- Compare interpolated values with ground-truth data.\n",
    "- Calculate RMSE, MAE, and R² for each method.\n",
    "\n",
    "### Sending best model to Postgis\n",
    "  -We will also add other models to postgis just to save the datasets\n",
    "\n"
   ]
  },
  {
   "cell_type": "markdown",
   "metadata": {},
   "source": [
    "### import requires packages"
   ]
  },
  {
   "cell_type": "code",
   "execution_count": 1,
   "metadata": {},
   "outputs": [],
   "source": [
    "import arcpy\n",
    "import os\n",
    "import pandas as pd\n",
    "import numpy as np\n",
    "import matplotlib.pyplot as plt\n",
    "from sklearn.linear_model import LinearRegression\n",
    "from sklearn.metrics import r2_score\n",
    "import math\n",
    "from math import sqrt\n",
    "import random\n",
    "import psycopg2"
   ]
  },
  {
   "cell_type": "code",
   "execution_count": 3,
   "metadata": {},
   "outputs": [],
   "source": [
    "arcpy.env.scratchWorkspace = r\"C:\\Users\\samik\\OneDrive\\Documents\\ArcGIS\\Projects\\Final project ET\\Final project ET.gdb\"\n",
    "\n",
    "with arcpy.EnvManager(scratchWorkspace=arcpy.env.scratchWorkspace):\n",
    "    ETCorn = arcpy.sa.ExtractByMask(\n",
    "        in_raster=\"ET_Jul2023.aet.tif\",\n",
    "        in_mask_data=\"clipped.TIF\",\n",
    "        extraction_area=\"INSIDE\",\n",
    "        analysis_extent='-97.3578140352203 43.3388462071335 -88.9958333 49.5041666666667 GEOGCS[\"GCS_WGS_1984\",DATUM[\"D_WGS_1984\",SPHEROID[\"WGS_1984\",6378137.0,298.257223563]],PRIMEM[\"Greenwich\",0.0],UNIT[\"Degree\",0.0174532925199433]]'\n",
    "    )\n",
    "    ETCorn.save(r\"C:\\Users\\samik\\OneDrive\\Documents\\ArcGIS\\Projects\\Final project ET\\Final project ET.gdb\\ExtractETCorn\")\n"
   ]
  },
  {
   "cell_type": "markdown",
   "metadata": {},
   "source": [
    "### Raster to Point"
   ]
  },
  {
   "cell_type": "code",
   "execution_count": 5,
   "metadata": {},
   "outputs": [
    {
     "data": {
      "text/html": [
       "<div class='gpresult'><h2>Messages</h2><div id='messages' data-messages='[\"Start Time: Monday, April 29, 2024 4:14:58 PM\",\"Succeeded at Monday, April 29, 2024 4:15:05 PM (Elapsed Time: 6.90 seconds)\"]' data-show='true'><div id = 'default' /></div></div>"
      ],
      "text/plain": [
       "<Result 'C:\\\\Users\\\\samik\\\\OneDrive\\\\Documents\\\\ArcGIS\\\\Projects\\\\Final project ET\\\\Final project ET.gdb\\\\RetToP'>"
      ]
     },
     "execution_count": 5,
     "metadata": {},
     "output_type": "execute_result"
    }
   ],
   "source": [
    "arcpy.conversion.RasterToPoint(\n",
    "    in_raster=\"ETCorn\",\n",
    "    out_point_features=r\"C:\\Users\\samik\\OneDrive\\Documents\\ArcGIS\\Projects\\Final project ET\\Final project ET.gdb\\RetToP\",\n",
    "    raster_field=\"Value\"\n",
    ")"
   ]
  },
  {
   "cell_type": "markdown",
   "metadata": {},
   "source": [
    "### ET interpolated data"
   ]
  },
  {
   "cell_type": "code",
   "execution_count": 7,
   "metadata": {},
   "outputs": [],
   "source": [
    "# IDW\n",
    "ET_idw = \"ET2023_Idw\"\n",
    "\n",
    "# ORDINARY_KRIGING\n",
    "ET_ord_kri = \"ET2023_ord_krigging\"\n",
    "\n",
    "# UNIVERSAL_KRIGING\n",
    "ET_uni_kri = \"ET2023_uni_krigging\""
   ]
  },
  {
   "cell_type": "markdown",
   "metadata": {},
   "source": [
    "### Interpolated raster to points"
   ]
  },
  {
   "cell_type": "code",
   "execution_count": 8,
   "metadata": {},
   "outputs": [
    {
     "data": {
      "text/html": [
       "<div class='gpresult'><h2>Messages</h2><div id='messages' data-messages='[\"Start Time: Monday, April 29, 2024 4:15:28 PM\",\"Succeeded at Monday, April 29, 2024 4:15:34 PM (Elapsed Time: 5.17 seconds)\"]' data-show='true'><div id = 'default' /></div></div>"
      ],
      "text/plain": [
       "<Result 'C:\\\\Users\\\\samik\\\\OneDrive\\\\Documents\\\\ArcGIS\\\\Projects\\\\Final project ET\\\\Final project ET.gdb\\\\ET2023_uni_Kriggingpoints'>"
      ]
     },
     "execution_count": 8,
     "metadata": {},
     "output_type": "execute_result"
    }
   ],
   "source": [
    "import arcpy\n",
    "\n",
    "# Set the workspace where the output feature classes will be saved\n",
    "arcpy.env.workspace = r\"C:\\Users\\samik\\OneDrive\\Documents\\ArcGIS\\Projects\\Final project ET\\Final project ET.gdb\"\n",
    "\n",
    "# IDW\n",
    "arcpy.conversion.RasterToPoint(in_raster=ET_idw, out_point_features=\"ET2023_IDWpoints\", raster_field=\"Value\")\n",
    "\n",
    "# ORDINARY_KRIGING\n",
    "arcpy.conversion.RasterToPoint(in_raster=ET_ord_kri, out_point_features=\"ET2023_ord_Kriggingpoints\", raster_field=\"Value\")\n",
    "\n",
    "# UNIVERSAL_KRIGING\n",
    "arcpy.conversion.RasterToPoint(in_raster=ET_uni_kri, out_point_features=\"ET2023_uni_Kriggingpoints\", raster_field=\"Value\")\n"
   ]
  },
  {
   "cell_type": "markdown",
   "metadata": {},
   "source": [
    "####  Checking Exploratort Interpolation"
   ]
  },
  {
   "cell_type": "code",
   "execution_count": 9,
   "metadata": {},
   "outputs": [
    {
     "data": {
      "text/html": [
       "<div class='gpresult'><h2>Messages</h2><div id='messages' data-messages='[\"Start Time: Monday, April 29, 2024 4:15:34 PM\",\"Calculating Simple Kriging – Default\",\"Calculating Simple Kriging – Optimized\",\"Calculating Simple Kriging – Trend\",\"Calculating Simple Kriging – Trend and transformation\",\"Calculating Ordinary Kriging – Default\",\"Calculating Ordinary Kriging – Optimized\",\"Calculating Universal Kriging – Default\",\"Calculating Universal Kriging – Optimized\",\" \\n\",\"------------------------------------------------\",\"RANK | NAME\",\"------------------------------------------------\",\"\\n\",\"1    | Universal Kriging – Optimized\",\"\\n\",\"2    | Universal Kriging – Default\",\"\\n\",\"3    | Ordinary Kriging – Default\",\"\\n\",\"4    | Ordinary Kriging – Optimized\",\"\\n\",\"5    | Simple Kriging – Trend\",\"\\n\",\"6    | Simple Kriging – Optimized\",\"\\n\",\"7    | Simple Kriging – Trend and transformation\",\"\\n\",\"8    | Simple Kriging – Default\",\"------------------------------------------------\",\"Succeeded at Monday, April 29, 2024 4:15:48 PM (Elapsed Time: 14.38 seconds)\"]' data-show='true'><div id = 'default' /></div></div>"
      ],
      "text/plain": [
       "<Result 'C:\\\\Users\\\\samik\\\\OneDrive\\\\Documents\\\\ArcGIS\\\\Projects\\\\Final project ET\\\\Final project ET.gdb\\\\ExploratoryInterpolation'>"
      ]
     },
     "execution_count": 9,
     "metadata": {},
     "output_type": "execute_result"
    }
   ],
   "source": [
    "arcpy.ga.ExploratoryInterpolation(\n",
    "    in_features=\"RetToP\",\n",
    "    value_field=\"pointid\",\n",
    "    out_cv_table=r\"C:\\Users\\samik\\OneDrive\\Documents\\ArcGIS\\Projects\\Final project ET\\Final project ET.gdb\\ExploratoryInterpolation\",\n",
    "    out_geostat_layer=None,\n",
    "    interp_methods=\"SIMPLE_KRIGING;ORDINARY_KRIGING;UNIVERSAL_KRIGING\",\n",
    "    comparison_method=\"SINGLE\",\n",
    "    criterion=\"ACCURACY\",\n",
    "    criteria_hierarchy=\"ACCURACY PERCENT #\",\n",
    "    weighted_criteria=\"ACCURACY 1\",\n",
    "    exclusion_criteria=None\n",
    ")"
   ]
  },
  {
   "cell_type": "code",
   "execution_count": 1,
   "metadata": {},
   "outputs": [],
   "source": [
    "import arcpy\n",
    "import random\n",
    "from math import sqrt\n",
    "\n",
    "# Set your workspace (where your data is stored)\n",
    "arcpy.env.workspace = r\"C:\\Users\\samik\\OneDrive\\Documents\\ArcGIS\\Projects\\Final project ET\\Final project ET.gdb\"\n",
    "\n",
    "# Define paths to your datasets\n",
    "interpolated_layer_IDW = \"ET2023_IDWpoints\"\n",
    "interpolated_layer_ord_Krigging = \"ET2023_ord_Kriggingpoints\"\n",
    "interpolated_layer_uni_Krigging = \"ET2023_uni_Kriggingpoints\"\n",
    "truth_layer = \"RetToP\"\n",
    "\n"
   ]
  },
  {
   "cell_type": "markdown",
   "metadata": {},
   "source": [
    "### Accuracy assessment "
   ]
  },
  {
   "cell_type": "code",
   "execution_count": 2,
   "metadata": {},
   "outputs": [
    {
     "name": "stdout",
     "output_type": "stream",
     "text": [
      "IDW RMSE: 1.3268690259711111, MAE: 0.7289537436107436, R²: 0.9917094515909141\n",
      "Ordinary Krigging RMSE: 1.5390378125614548, MAE: 0.9850686370201813, R²: 0.9887309034932417\n",
      "Universal Krigging RMSE: 1.9642631031769628, MAE: 1.1442730215360575, R²: 0.9813486706935182\n"
     ]
    }
   ],
   "source": [
    "def process_interpolation(interpolated_layer, truth_layer, label):\n",
    "    # Read the points into memory\n",
    "    interpolated_points = [row for row in arcpy.da.SearchCursor(interpolated_layer, [\"SHAPE@\", \"grid_code\"])]\n",
    "    truth_points = [row for row in arcpy.da.SearchCursor(truth_layer, [\"SHAPE@\", \"grid_code\"])]\n",
    "\n",
    "    # Function to find closest point\n",
    "    def find_closest(inter_point, truth_points):\n",
    "        min_distance = float('inf')\n",
    "        closest_truth = None\n",
    "        for truth_point in truth_points:\n",
    "            dist = inter_point[0].distanceTo(truth_point[0])\n",
    "            if dist < min_distance:\n",
    "                min_distance = dist\n",
    "                closest_truth = truth_point\n",
    "        return (inter_point[1], closest_truth[1], min_distance)\n",
    "\n",
    "    # Find closest matches\n",
    "    closest_matches = [find_closest(inter_point, truth_points) for inter_point in interpolated_points]\n",
    "\n",
    "    # Sample 50% of the data randomly\n",
    "    sampled_matches = random.sample(closest_matches, len(closest_matches) // 2)\n",
    "\n",
    "    # Function to calculate RMSE, MAE, and R²\n",
    "    def calculate_metrics(data):\n",
    "        true_values, predicted_values = zip(*[(true, pred) for true, pred, _ in data])\n",
    "        mse = sum((t - p) ** 2 for t, p in zip(true_values, predicted_values)) / len(data)\n",
    "        mae = sum(abs(t - p) for t, p in zip(true_values, predicted_values)) / len(data)\n",
    "        rmse = sqrt(mse)\n",
    "        mean_true = sum(true_values) / len(data)\n",
    "        ss_tot = sum((t - mean_true) ** 2 for t in true_values)\n",
    "        ss_res = sum((t - p) ** 2 for t, p in zip(true_values, predicted_values))\n",
    "        r_squared = 1 - (ss_res / ss_tot)\n",
    "        return rmse, mae, r_squared\n",
    "\n",
    "    # Calculate and print the accuracy metrics\n",
    "    rmse, mae, r_squared = calculate_metrics(sampled_matches)\n",
    "    print(f\"{label} RMSE: {rmse}, MAE: {mae}, R²: {r_squared}\")\n",
    "\n",
    "# Define layers\n",
    "truth_layer = \"RetToP\"\n",
    "interpolated_layer_IDW = \"ET2023_IDWpoints\"\n",
    "interpolated_layer_ord_Krigging = \"ET2023_ord_Kriggingpoints\"\n",
    "interpolated_layer_uni_Krigging = \"ET2023_uni_Kriggingpoints\"\n",
    "\n",
    "# Process each interpolation method\n",
    "process_interpolation(interpolated_layer_IDW, truth_layer, \"IDW\")\n",
    "process_interpolation(interpolated_layer_ord_Krigging, truth_layer, \"Ordinary Krigging\")\n",
    "process_interpolation(interpolated_layer_uni_Krigging, truth_layer, \"Universal Krigging\")\n"
   ]
  },
  {
   "cell_type": "markdown",
   "metadata": {},
   "source": [
    "### Since IDW Model seems like a best fit amongst others we are using IDW for our map and sending this to postgis"
   ]
  },
  {
   "cell_type": "code",
   "execution_count": 2,
   "metadata": {},
   "outputs": [
    {
     "name": "stdout",
     "output_type": "stream",
     "text": [
      "ET2023_Idw converted to point\n",
      "ET2023_Idw_point pushed to database\n"
     ]
    }
   ],
   "source": [
    "import arcpy\n",
    "import os\n",
    "\n",
    "# Function to convert raster to point and push to database\n",
    "def point_and_push(raster_name, local_gdb_path, geodatabase_path):\n",
    "    # Convert raster to point data\n",
    "    arcpy.conversion.RasterToPoint(\n",
    "        in_raster=os.path.join(local_gdb_path, raster_name),\n",
    "        out_point_features=os.path.join(local_gdb_path, raster_name + '_point'),\n",
    "        raster_field=\"Value\"\n",
    "    )\n",
    "    print(f\"{raster_name} converted to point\")\n",
    "\n",
    "    # Push point data to remote database\n",
    "    arcpy.conversion.FeatureClassToGeodatabase(\n",
    "        os.path.join(local_gdb_path, raster_name + '_point'),\n",
    "        geodatabase_path\n",
    "    )\n",
    "    print(f\"{raster_name}_point pushed to database\")\n",
    "\n",
    "# Paths\n",
    "local_gdb_path = r\"C:\\Users\\samik\\OneDrive\\Documents\\ArcGIS\\Projects\\Final project ET\\Final project ET.gdb\"\n",
    "geodatabase_path = r\"C:\\Users\\samik\\OneDrive\\Documents\\ArcGIS\\Projects\\Lab3\\PostgreSQL-34-gis5572(postgres).sde\"\n",
    "\n",
    "# Interpolation raster names\n",
    "interpolation_rasters = [\n",
    "    \"ET2023_Idw\"]\n",
    "\n",
    "# Convert each raster to point and push to the database\n",
    "for raster_name in interpolation_rasters:\n",
    "    point_and_push(raster_name, local_gdb_path, geodatabase_path)\n"
   ]
  },
  {
   "cell_type": "code",
   "execution_count": 3,
   "metadata": {},
   "outputs": [],
   "source": [
    "import arcpy\n",
    "\n",
    "def validate_geometry(point_feature_class):\n",
    "    # Repair geometry if necessary\n",
    "    arcpy.management.RepairGeometry(point_feature_class, \"DELETE_NULL\")\n",
    "\n",
    "# Call this function before pushing to database\n",
    "validate_geometry(os.path.join(local_gdb_path, raster_name + '_point'))\n"
   ]
  },
  {
   "cell_type": "code",
   "execution_count": 4,
   "metadata": {},
   "outputs": [],
   "source": [
    "def set_spatial_reference(point_feature_class, srid):\n",
    "    # Define the spatial reference using the SRID\n",
    "    spatial_ref = arcpy.SpatialReference(srid)\n",
    "    arcpy.management.DefineProjection(point_feature_class, spatial_ref)\n",
    "\n",
    "# Example usage: Assuming SRID 4326 for WGS 84\n",
    "set_spatial_reference(os.path.join(local_gdb_path, raster_name + '_point'), 4326)\n"
   ]
  },
  {
   "cell_type": "code",
   "execution_count": 5,
   "metadata": {},
   "outputs": [
    {
     "name": "stdout",
     "output_type": "stream",
     "text": [
      "ET2023_Idw converted to point\n",
      "ET2023_Idw_point pushed to database\n"
     ]
    }
   ],
   "source": [
    "arcpy.AddMessage(\"Starting conversion...\")\n",
    "try:\n",
    "    # Your existing code here\n",
    "    point_and_push(raster_name, local_gdb_path, geodatabase_path)\n",
    "except Exception as e:\n",
    "    arcpy.AddError(str(e))\n",
    "arcpy.AddMessage(\"Completed conversion...\")\n"
   ]
  },
  {
   "cell_type": "code",
   "execution_count": 6,
   "metadata": {},
   "outputs": [
    {
     "data": {
      "text/html": [
       "<div class='gpresult'><h2>Messages</h2><div id='messages' data-messages='[\"Start Time: Thursday, May 2, 2024 1:49:15 PM\",\"Succeeded at Thursday, May 2, 2024 1:49:17 PM (Elapsed Time: 2.11 seconds)\"]' data-show='true'><div id = 'default' /></div></div>"
      ],
      "text/plain": [
       "<Result 'C:\\\\Users\\\\samik\\\\OneDrive\\\\Documents\\\\ArcGIS\\\\Projects\\\\Final project ET\\\\Final project ET.gdb\\\\ET2023_Idw_point'>"
      ]
     },
     "execution_count": 6,
     "metadata": {},
     "output_type": "execute_result"
    }
   ],
   "source": [
    "arcpy.conversion.RasterToPoint(\n",
    "    in_raster=os.path.join(local_gdb_path, raster_name),\n",
    "    out_point_features=os.path.join(local_gdb_path, raster_name + '_point'),\n",
    "    raster_field=\"Value\"\n",
    ")\n"
   ]
  },
  {
   "cell_type": "code",
   "execution_count": null,
   "metadata": {},
   "outputs": [],
   "source": []
  }
 ],
 "metadata": {
  "kernelspec": {
   "display_name": "ArcGISPro",
   "language": "Python",
   "name": "python3"
  },
  "language_info": {
   "file_extension": ".py",
   "name": "python",
   "version": "3"
  }
 },
 "nbformat": 4,
 "nbformat_minor": 2
}
