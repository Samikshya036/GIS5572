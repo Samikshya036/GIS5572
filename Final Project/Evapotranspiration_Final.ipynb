{
 "cells": [
  {
   "cell_type": "markdown",
   "metadata": {},
   "source": [
    "## Evapotranspiration Interpolation, Accuracy Assessment and PostGIS \n",
    "\n",
    "### Data Preparation\n",
    "- Load ET data for July 2023 and September 2023.\n",
    "- Prepare ground-truth data.\n",
    "\n",
    "### Interpolation\n",
    "- Perform IDW, Ordinary Kriging, and Universal Kriging interpolation.\n",
    "\n",
    "### Accuracy Assessment\n",
    "- Compare interpolated values with ground-truth data.\n",
    "- Calculate RMSE, MAE, and R² for each method.\n",
    "\n",
    "### Sending best model to Postgis\n",
    "  - We will send best fit models to our remote databas\n",
    "#### Link to datasets:  https://app.climateengine.org/climateEngine\n",
    "\n"
   ]
  },
  {
   "cell_type": "markdown",
   "metadata": {},
   "source": [
    "### import requires packages"
   ]
  },
  {
   "cell_type": "code",
   "execution_count": 2,
   "metadata": {},
   "outputs": [],
   "source": [
    "import arcpy\n",
    "import os\n",
    "import pandas as pd\n",
    "import numpy as np\n",
    "import matplotlib.pyplot as plt\n",
    "from sklearn.linear_model import LinearRegression\n",
    "from sklearn.metrics import r2_score\n",
    "import math\n",
    "from math import sqrt\n",
    "import random\n",
    "import psycopg2"
   ]
  },
  {
   "cell_type": "markdown",
   "metadata": {},
   "source": [
    "### ET July 2023  extract by mask for corn areas\n",
    "#### Since we are working with corn growers we want to provide the et in the areas were corn are grown in 2023. We used Mn Land cover data for 2023 corn areas and Clipped.tiff. "
   ]
  },
  {
   "cell_type": "code",
   "execution_count": 11,
   "metadata": {},
   "outputs": [],
   "source": [
    "#July 2023 \n",
    "arcpy.env.scratchWorkspace = r\"C:\\Users\\samik\\OneDrive\\Documents\\ArcGIS\\Projects\\Final project ET\\Final project ET.gdb\"\n",
    "\n",
    "with arcpy.EnvManager(scratchWorkspace=arcpy.env.scratchWorkspace):\n",
    "    ETCorn = arcpy.sa.ExtractByMask(\n",
    "        in_raster=\"ET_Jul2023.aet.tif\",\n",
    "        in_mask_data=\"clipped.TIF\",\n",
    "        extraction_area=\"INSIDE\",\n",
    "        analysis_extent='-97.3578140352203 43.3388462071335 -88.9958333 49.5041666666667 GEOGCS[\"GCS_WGS_1984\",DATUM[\"D_WGS_1984\",SPHEROID[\"WGS_1984\",6378137.0,298.257223563]],PRIMEM[\"Greenwich\",0.0],UNIT[\"Degree\",0.0174532925199433]]'\n",
    "    )\n",
    "    ETCorn.save(r\"C:\\Users\\samik\\OneDrive\\Documents\\ArcGIS\\Projects\\Final project ET\\Final project ET.gdb\\ExtractETCorn\")\n",
    "#September 2023\n",
    "arcpy.env.scratchWorkspace = r\"C:\\Users\\samik\\OneDrive\\Documents\\ArcGIS\\Projects\\Final project ET\\Final project ET.gdb\"\n",
    "\n",
    "with arcpy.EnvManager(scratchWorkspace=arcpy.env.scratchWorkspace):\n",
    "    ETCornSep = arcpy.sa.ExtractByMask(\n",
    "        in_raster=\"ET_Sep2023.aet.tif\",\n",
    "        in_mask_data=\"clipped.TIF\",\n",
    "        extraction_area=\"INSIDE\",\n",
    "        analysis_extent='-97.3578140352203 43.3388462071335 -88.9958333 49.5041666666667 GEOGCS[\"GCS_WGS_1984\",DATUM[\"D_WGS_1984\",SPHEROID[\"WGS_1984\",6378137.0,298.257223563]],PRIMEM[\"Greenwich\",0.0],UNIT[\"Degree\",0.0174532925199433]]'\n",
    "    )\n",
    "    ETCornSep.save(r\"C:\\Users\\samik\\OneDrive\\Documents\\ArcGIS\\Projects\\Final project ET\\Final project ET.gdb\\ExtractETCornSep\")\n"
   ]
  },
  {
   "cell_type": "markdown",
   "metadata": {},
   "source": [
    "### Raster to Point\n",
    "#### Once we have the raster data for the corn areas, we converted to points and these pointsare our ground truth data"
   ]
  },
  {
   "cell_type": "code",
   "execution_count": 12,
   "metadata": {},
   "outputs": [
    {
     "data": {
      "text/html": [
       "<div class='gpresult'><h2>Messages</h2><div id='messages' data-messages='[\"Start Time: Friday, May 3, 2024 1:01:16 PM\",\"Succeeded at Friday, May 3, 2024 1:01:23 PM (Elapsed Time: 6.17 seconds)\"]' data-show='true'><div id = 'default' /></div></div>"
      ],
      "text/plain": [
       "<Result 'C:\\\\Users\\\\samik\\\\OneDrive\\\\Documents\\\\ArcGIS\\\\Projects\\\\Final project ET\\\\Final project ET.gdb\\\\RetToPSEP'>"
      ]
     },
     "execution_count": 12,
     "metadata": {},
     "output_type": "execute_result"
    }
   ],
   "source": [
    "#July 2023\n",
    "arcpy.conversion.RasterToPoint(\n",
    "    in_raster=\"ETCorn\",\n",
    "    out_point_features=r\"C:\\Users\\samik\\OneDrive\\Documents\\ArcGIS\\Projects\\Final project ET\\Final project ET.gdb\\RetToP\",\n",
    "    raster_field=\"Value\"\n",
    ")\n",
    "#September 2023\n",
    "arcpy.conversion.RasterToPoint(\n",
    "    in_raster=\"ETCornSEP\",\n",
    "    out_point_features=r\"C:\\Users\\samik\\OneDrive\\Documents\\ArcGIS\\Projects\\Final project ET\\Final project ET.gdb\\RetToPSEP\",\n",
    "    raster_field=\"Value\"\n",
    ")"
   ]
  },
  {
   "cell_type": "markdown",
   "metadata": {},
   "source": [
    "### ET interpolated data\n",
    "\n",
    "#### Once we have the points we use 3 models to interpolate these points : IDW, IDW ordinary krigging and IDW universal krigging"
   ]
  },
  {
   "cell_type": "code",
   "execution_count": 17,
   "metadata": {},
   "outputs": [],
   "source": [
    "#July 2023\n",
    "# IDW\n",
    "ET_idw = \"ET2023_IDW\"\n",
    "\n",
    "# ORDINARY_KRIGING\n",
    "ET_ord_kri = \"ET2023_ord_krigging\"\n",
    "\n",
    "# UNIVERSAL_KRIGING\n",
    "ET_uni_kri = \"ET2023_uni_krigging\"\n",
    "\n",
    "#September 2023\n",
    "# IDW\n",
    "ETSep_idw = \"ETSep2023_Idw\"\n",
    "\n",
    "# ORDINARY_KRIGING\n",
    "ETSep_ord_kri = \"ETSEP2023_ord_krigging\"\n",
    "\n",
    "# UNIVERSAL_KRIGING\n",
    "ETSep_uni_kri = \"ETSEP2023_uni_krigging\""
   ]
  },
  {
   "cell_type": "markdown",
   "metadata": {},
   "source": [
    "### Interpolated raster to points\n",
    "#### Again we convert all three interpolated rasters to point to get point data sets and compare those with out ground truth data. "
   ]
  },
  {
   "cell_type": "code",
   "execution_count": 18,
   "metadata": {},
   "outputs": [
    {
     "data": {
      "text/html": [
       "<div class='gpresult'><h2>Messages</h2><div id='messages' data-messages='[\"Start Time: Friday, May 3, 2024 1:08:09 PM\",\"Succeeded at Friday, May 3, 2024 1:08:17 PM (Elapsed Time: 8.48 seconds)\"]' data-show='true'><div id = 'default' /></div></div>"
      ],
      "text/plain": [
       "<Result 'C:\\\\Users\\\\samik\\\\OneDrive\\\\Documents\\\\ArcGIS\\\\Projects\\\\Final project ET\\\\Final project ET.gdb\\\\ETSep2023_uni_Kriggingpoints'>"
      ]
     },
     "execution_count": 18,
     "metadata": {},
     "output_type": "execute_result"
    }
   ],
   "source": [
    "#July 2023\n",
    "import arcpy\n",
    "\n",
    "# Set the workspace where the output feature classes will be saved\n",
    "arcpy.env.workspace = r\"C:\\Users\\samik\\OneDrive\\Documents\\ArcGIS\\Projects\\Final project ET\\Final project ET.gdb\"\n",
    "\n",
    "# IDW\n",
    "arcpy.conversion.RasterToPoint(in_raster=ET_idw, out_point_features=\"ET2023_IDWpoints\", raster_field=\"Value\")\n",
    "\n",
    "# ORDINARY_KRIGING\n",
    "arcpy.conversion.RasterToPoint(in_raster=ET_ord_kri, out_point_features=\"ET2023_ord_Kriggingpoints\", raster_field=\"Value\")\n",
    "\n",
    "# UNIVERSAL_KRIGING\n",
    "arcpy.conversion.RasterToPoint(in_raster=ET_uni_kri, out_point_features=\"ET2023_uni_Kriggingpoints\", raster_field=\"Value\")\n",
    "# September 2023\n",
    "# Set the workspace where the output feature classes will be saved\n",
    "arcpy.env.workspace = r\"C:\\Users\\samik\\OneDrive\\Documents\\ArcGIS\\Projects\\Final project ET\\Final project ET.gdb\"\n",
    "\n",
    "# IDW\n",
    "arcpy.conversion.RasterToPoint(in_raster=ETSep_idw, out_point_features=\"ETSep2023_Idwpoints\", raster_field=\"Value\")\n",
    "\n",
    "# ORDINARY_KRIGING\n",
    "arcpy.conversion.RasterToPoint(in_raster=ETSep_ord_kri, out_point_features=\"ETSep2023_ord_Kriggingpoints\", raster_field=\"Value\")\n",
    "\n",
    "# UNIVERSAL_KRIGING\n",
    "arcpy.conversion.RasterToPoint(in_raster=ETSep_uni_kri, out_point_features=\"ETSep2023_uni_Kriggingpoints\", raster_field=\"Value\")"
   ]
  },
  {
   "cell_type": "markdown",
   "metadata": {},
   "source": [
    "####  Checking Exploratory Interpolation"
   ]
  },
  {
   "cell_type": "code",
   "execution_count": 1,
   "metadata": {},
   "outputs": [
    {
     "data": {
      "text/html": [
       "<div class='gpresult'><h2>Messages</h2><div id='messages' data-messages='[\"Start Time: Friday, May 3, 2024 2:06:05 PM\",\"Calculating Simple Kriging – Default\",\"Calculating Simple Kriging – Optimized\",\"Calculating Simple Kriging – Trend\",\"Calculating Simple Kriging – Trend and transformation\",\"Calculating Ordinary Kriging – Default\",\"Calculating Ordinary Kriging – Optimized\",\"Calculating Universal Kriging – Default\",\"Calculating Universal Kriging – Optimized\",\" \\n\",\"------------------------------------------------\",\"RANK | NAME\",\"------------------------------------------------\",\"\\n\",\"1    | Universal Kriging – Optimized\",\"\\n\",\"2    | Universal Kriging – Default\",\"\\n\",\"3    | Ordinary Kriging – Default\",\"\\n\",\"4    | Ordinary Kriging – Optimized\",\"\\n\",\"5    | Simple Kriging – Trend\",\"\\n\",\"6    | Simple Kriging – Optimized\",\"\\n\",\"7    | Simple Kriging – Trend and transformation\",\"\\n\",\"8    | Simple Kriging – Default\",\"------------------------------------------------\",\"Succeeded at Friday, May 3, 2024 2:06:13 PM (Elapsed Time: 7.56 seconds)\"]' data-show='true'><div id = 'default' /></div></div>"
      ],
      "text/plain": [
       "<Result 'C:\\\\Users\\\\samik\\\\OneDrive\\\\Documents\\\\ArcGIS\\\\Projects\\\\Final project ET\\\\Final project ET.gdb\\\\ExploratoryInterpolationSep2023'>"
      ]
     },
     "execution_count": 1,
     "metadata": {},
     "output_type": "execute_result"
    }
   ],
   "source": [
    "# July 2023 \n",
    "arcpy.ga.ExploratoryInterpolation(\n",
    "    in_features=\"RetToP\",\n",
    "    value_field=\"pointid\",\n",
    "    out_cv_table=r\"C:\\Users\\samik\\OneDrive\\Documents\\ArcGIS\\Projects\\Final project ET\\Final project ET.gdb\\ExploratoryInterpolation\",\n",
    "    out_geostat_layer=None,\n",
    "    interp_methods=\"SIMPLE_KRIGING;ORDINARY_KRIGING;UNIVERSAL_KRIGING\",\n",
    "    comparison_method=\"SINGLE\",\n",
    "    criterion=\"ACCURACY\",\n",
    "    criteria_hierarchy=\"ACCURACY PERCENT #\",\n",
    "    weighted_criteria=\"ACCURACY 1\",\n",
    "    exclusion_criteria=None\n",
    ")\n",
    "\n",
    "#September 2023\n",
    "arcpy.ga.ExploratoryInterpolation(\n",
    "    in_features=\"RetToPSEP\",\n",
    "    value_field=\"pointid\",\n",
    "    out_cv_table=r\"C:\\Users\\samik\\OneDrive\\Documents\\ArcGIS\\Projects\\Final project ET\\Final project ET.gdb\\ExploratoryInterpolationSep2023\",\n",
    "    out_geostat_layer=None,\n",
    "    interp_methods=\"SIMPLE_KRIGING;ORDINARY_KRIGING;UNIVERSAL_KRIGING\",\n",
    "    comparison_method=\"SINGLE\",\n",
    "    criterion=\"ACCURACY\",\n",
    "    criteria_hierarchy=\"ACCURACY PERCENT #\",\n",
    "    weighted_criteria=\"ACCURACY 1\",\n",
    "    exclusion_criteria=None\n",
    ")\n"
   ]
  },
  {
   "cell_type": "code",
   "execution_count": 21,
   "metadata": {},
   "outputs": [],
   "source": [
    "\n",
    "# Set  workspace (where your data is stored)\n",
    "arcpy.env.workspace = r\"C:\\Users\\samik\\OneDrive\\Documents\\ArcGIS\\Projects\\Final project ET\\Final project ET.gdb\"\n",
    "\n",
    "# Define paths to datasets July 2023\n",
    "interpolated_layer_IDW = \"ET2023_IDWpoints\"\n",
    "interpolated_layer_ord_Krigging = \"ET2023_ord_Kriggingpoints\"\n",
    "interpolated_layer_uni_Krigging = \"ET2023_uni_Kriggingpoints\"\n",
    "truth_layer = \"RetToP\"\n",
    "\n",
    "# Define paths to datasets September 2023\n",
    "interpolated_layer_IDWSep = \"ETSep2023_Idwpoints\"\n",
    "interpolated_layer_ord_KriggingSep = \"ETSep2023_ord_Kriggingpoints\"\n",
    "interpolated_layer_uni_KriggingSep = \"ETSep2023_uni_Kriggingpoints\"\n",
    "truth_layer = \"RetToPSep\""
   ]
  },
  {
   "cell_type": "markdown",
   "metadata": {},
   "source": [
    "### Accuracy assessment \n",
    "\n",
    "#### Once we have points from interpolated datasets, we do accuracy assessment of spatial interpolation methods by comparing interpolated data against truth data. It identifies closest matches, randomly samples 50% of these, and calculates statistical metrics like RMSE, MAE, and R² to assess methods such as IDW, Ordinary Krigging, and Universal Krigging."
   ]
  },
  {
   "cell_type": "code",
   "execution_count": null,
   "metadata": {},
   "outputs": [
    {
     "name": "stdout",
     "output_type": "stream",
     "text": [
      "IDW RMSE: 1.3469024620656782, MAE: 0.7330507175877402, R²: 0.9915695020869919\n"
     ]
    }
   ],
   "source": [
    "# July 2023 \n",
    "\n",
    "def process_interpolation(interpolated_layer, truth_layer, label):\n",
    "    # Read the points into memory\n",
    "    interpolated_points = [row for row in arcpy.da.SearchCursor(interpolated_layer, [\"SHAPE@\", \"grid_code\"])]\n",
    "    truth_points = [row for row in arcpy.da.SearchCursor(truth_layer, [\"SHAPE@\", \"grid_code\"])]\n",
    "\n",
    "    # Function to find closest point\n",
    "    def find_closest(inter_point, truth_points):\n",
    "        min_distance = float('inf')\n",
    "        closest_truth = None\n",
    "        for truth_point in truth_points:\n",
    "            dist = inter_point[0].distanceTo(truth_point[0])\n",
    "            if dist < min_distance:\n",
    "                min_distance = dist\n",
    "                closest_truth = truth_point\n",
    "        return (inter_point[1], closest_truth[1], min_distance)\n",
    "\n",
    "    # Find closest matches\n",
    "    closest_matches = [find_closest(inter_point, truth_points) for inter_point in interpolated_points]\n",
    "\n",
    "    # Sample 50% of the data randomly\n",
    "    sampled_matches = random.sample(closest_matches, len(closest_matches) // 2)\n",
    "\n",
    "    # Function to calculate RMSE, MAE, and R²\n",
    "    def calculate_metrics(data):\n",
    "        true_values, predicted_values = zip(*[(true, pred) for true, pred, _ in data])\n",
    "        mse = sum((t - p) ** 2 for t, p in zip(true_values, predicted_values)) / len(data)\n",
    "        mae = sum(abs(t - p) for t, p in zip(true_values, predicted_values)) / len(data)\n",
    "        rmse = sqrt(mse)\n",
    "        mean_true = sum(true_values) / len(data)\n",
    "        ss_tot = sum((t - mean_true) ** 2 for t in true_values)\n",
    "        ss_res = sum((t - p) ** 2 for t, p in zip(true_values, predicted_values))\n",
    "        r_squared = 1 - (ss_res / ss_tot)\n",
    "        return rmse, mae, r_squared\n",
    "\n",
    "    # Calculate and print the accuracy metrics\n",
    "    rmse, mae, r_squared = calculate_metrics(sampled_matches)\n",
    "    print(f\"{label} RMSE: {rmse}, MAE: {mae}, R²: {r_squared}\")\n",
    "\n",
    "# Define layers\n",
    "truth_layer = \"RetToP\"\n",
    "interpolated_layer_IDW = \"ET2023_IDWpoints\"\n",
    "interpolated_layer_ord_Krigging = \"ET2023_ord_Kriggingpoints\"\n",
    "interpolated_layer_uni_Krigging = \"ET2023_uni_Kriggingpoints\"\n",
    "\n",
    "# Process each interpolation method\n",
    "process_interpolation(interpolated_layer_IDW, truth_layer, \"IDW\")\n",
    "process_interpolation(interpolated_layer_ord_Krigging, truth_layer, \"Ordinary Krigging\")\n",
    "process_interpolation(interpolated_layer_uni_Krigging, truth_layer, \"Universal Krigging\")\n"
   ]
  },
  {
   "cell_type": "code",
   "execution_count": 22,
   "metadata": {},
   "outputs": [
    {
     "name": "stdout",
     "output_type": "stream",
     "text": [
      "IDWSep RMSE: 0.9680784017054407, MAE: 0.6273982147000878, R²: 0.9967054012233997\n",
      "Ordinary KriggingSep RMSE: 1.0453052820712923, MAE: 0.7249511565802235, R²: 0.9962227417907644\n",
      "Universal KriggingSep RMSE: 1.2638997082992183, MAE: 0.9147894954681393, R²: 0.9943041283507762\n"
     ]
    }
   ],
   "source": [
    "# September 2023\n",
    "def process_interpolation(interpolated_layerSep, truth_layerSep, labelSep):\n",
    "    # Read the points into memory\n",
    "    interpolated_pointsSep = [row for row in arcpy.da.SearchCursor(interpolated_layerSep, [\"SHAPE@\", \"grid_code\"])]\n",
    "    truth_pointsSep = [row for row in arcpy.da.SearchCursor(truth_layerSep, [\"SHAPE@\", \"grid_code\"])]\n",
    "\n",
    "    # Function to find closest point\n",
    "    def find_closest(inter_pointSep, truth_pointsSep):\n",
    "        min_distance = float('inf')\n",
    "        closest_truthSep = None\n",
    "        for truth_pointSep in truth_pointsSep:\n",
    "            dist = inter_pointSep[0].distanceTo(truth_pointSep[0])\n",
    "            if dist < min_distance:\n",
    "                min_distance = dist\n",
    "                closest_truthSep = truth_pointSep\n",
    "        return (inter_pointSep[1], closest_truthSep[1], min_distance)\n",
    "\n",
    "    # Find closest matches\n",
    "    closest_matchesSep = [find_closest(inter_pointSep, truth_pointsSep) for inter_pointSep in interpolated_pointsSep]\n",
    "\n",
    "    # Sample 50% of the data randomly\n",
    "    sampled_matchesSep = random.sample(closest_matchesSep, len(closest_matchesSep) // 2)\n",
    "\n",
    "    # Function to calculate RMSE, MAE, and R²\n",
    "    def calculate_metrics(dataSep):\n",
    "        true_valuesSep, predicted_valuesSep = zip(*[(trueSep, predSep) for trueSep, predSep, _ in dataSep])\n",
    "        mse = sum((t - p) ** 2 for t, p in zip(true_valuesSep, predicted_valuesSep)) / len(dataSep)\n",
    "        mae = sum(abs(t - p) for t, p in zip(true_valuesSep, predicted_valuesSep)) / len(dataSep)\n",
    "        rmse = sqrt(mse)\n",
    "        mean_trueSep = sum(true_valuesSep) / len(dataSep)\n",
    "        ss_tot = sum((t - mean_trueSep) ** 2 for t in true_valuesSep)\n",
    "        ss_res = sum((t - p) ** 2 for t, p in zip(true_valuesSep, predicted_valuesSep))\n",
    "        r_squared = 1 - (ss_res / ss_tot)\n",
    "        return rmse, mae, r_squared\n",
    "\n",
    "    # Calculate and print the accuracy metrics\n",
    "    rmseSep, maeSep, r_squaredSep = calculate_metrics(sampled_matchesSep)\n",
    "    print(f\"{labelSep} RMSE: {rmseSep}, MAE: {maeSep}, R²: {r_squaredSep}\")\n",
    "\n",
    "# Define layers for September\n",
    "truth_layerSep = \"RetToPSep\"\n",
    "interpolated_layer_IDWSep = \"ETSep2023_Idwpoints\"\n",
    "interpolated_layer_ord_KriggingSep = \"ETSep2023_ord_Kriggingpoints\"\n",
    "interpolated_layer_uni_KriggingSep = \"ETSep2023_uni_Kriggingpoints\"\n",
    "\n",
    "# Process each interpolation method for September\n",
    "process_interpolation(interpolated_layer_IDWSep, truth_layerSep, \"IDWSep\")\n",
    "process_interpolation(interpolated_layer_ord_KriggingSep, truth_layerSep, \"Ordinary KriggingSep\")\n",
    "process_interpolation(interpolated_layer_uni_KriggingSep, truth_layerSep, \"Universal KriggingSep\")\n"
   ]
  },
  {
   "cell_type": "markdown",
   "metadata": {},
   "source": [
    "### Choosing the Best Model and sending it to remore database\n",
    "\n",
    "#### IDW Model for July 2023 seems like a best fit amongst others we are using IDW for our map and sending this to postgis.  Although all the model seems pretty good but I choose IDW out of them because it has slightly less rmse and mae and r-2 of 0.99\n",
    "\n",
    "#### We will also choose IDW for September 2023  because it looks better than others with IDWSep RMSE: 0.9802416925892986, MAE: 0.6344020543008491, R²: 0.996608592848134\n"
   ]
  },
  {
   "cell_type": "code",
   "execution_count": 27,
   "metadata": {},
   "outputs": [
    {
     "name": "stdout",
     "output_type": "stream",
     "text": [
      "ET2023_IDW converted to point\n",
      "ET2023_IDW_point pushed to database\n",
      "ETSep2023_Idw converted to point\n",
      "ETSep2023_Idw_point pushed to database\n"
     ]
    }
   ],
   "source": [
    "# Function to convert raster to point and push to database\n",
    "def point_and_push(raster_name, local_gdb_path, geodatabase_path):\n",
    "    # Convert raster to point data\n",
    "    arcpy.conversion.RasterToPoint(\n",
    "        in_raster=os.path.join(local_gdb_path, raster_name),\n",
    "        out_point_features=os.path.join(local_gdb_path, raster_name + '_point'),\n",
    "        raster_field=\"Value\"\n",
    "    )\n",
    "    print(f\"{raster_name} converted to point\")\n",
    "\n",
    "    # Push point data to remote database\n",
    "    arcpy.conversion.FeatureClassToGeodatabase(\n",
    "        os.path.join(local_gdb_path, raster_name + '_point'),\n",
    "        geodatabase_path\n",
    "    )\n",
    "    print(f\"{raster_name}_point pushed to database\")\n",
    "\n",
    "# Paths\n",
    "local_gdb_path = r\"C:\\Users\\samik\\OneDrive\\Documents\\ArcGIS\\Projects\\Final project ET\\Final project ET.gdb\"\n",
    "geodatabase_path = r\"C:\\Users\\samik\\OneDrive\\Documents\\ArcGIS\\Projects\\Lab3\\PostgreSQL-34-gis5572(postgres).sde\"\n",
    "\n",
    "# Interpolation raster names\n",
    "interpolation_rasters = [\n",
    "    \"ET2023_IDW\", \n",
    "\"ETSep2023_Idw\"]\n",
    "\n",
    "# Convert each raster to point and push to the database\n",
    "for raster_name in interpolation_rasters:\n",
    "    point_and_push(raster_name, local_gdb_path, geodatabase_path)\n"
   ]
  }
 ],
 "metadata": {
  "kernelspec": {
   "display_name": "ArcGISPro",
   "language": "Python",
   "name": "python3"
  },
  "language_info": {
   "file_extension": ".py",
   "name": "python",
   "version": "3"
  }
 },
 "nbformat": 4,
 "nbformat_minor": 2
}
