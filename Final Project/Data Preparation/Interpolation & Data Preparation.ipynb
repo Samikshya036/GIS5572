{
 "cells": [
  {
   "cell_type": "markdown",
   "metadata": {},
   "source": [
    "# Interpolation & Data Preparation\n",
    "This notebook is to do the interpolation for Accumulated Growing Degree Days (AGDD), by using\n",
    "   - Inverse distance weighted (IDW)\n",
    "   - Ordinary Kriging\n",
    "   - Universal Kriging \n",
    "   \n",
    "and prepare soil moisture, then converting the rasters to points, and saving them into a PostGIS database on Google Cloud."
   ]
  },
  {
   "cell_type": "markdown",
   "metadata": {},
   "source": [
    "### Package"
   ]
  },
  {
   "cell_type": "code",
   "execution_count": 41,
   "metadata": {},
   "outputs": [],
   "source": [
    "import arcpy\n",
    "import os\n",
    "import psycopg2\n",
    "import random"
   ]
  },
  {
   "cell_type": "markdown",
   "metadata": {},
   "source": [
    "### Workspace"
   ]
  },
  {
   "cell_type": "code",
   "execution_count": 43,
   "metadata": {},
   "outputs": [],
   "source": [
    "arcpy.env.workspace = r\"D:\\spring2024\\GIS5572\\Final\\Final project GIS5572.gdb\""
   ]
  },
  {
   "cell_type": "markdown",
   "metadata": {},
   "source": [
    "### Connect to PostGIS database"
   ]
  },
  {
   "cell_type": "code",
   "execution_count": 67,
   "metadata": {},
   "outputs": [],
   "source": [
    "conn = psycopg2.connect(\n",
    "    dbname=\"gis5572\",\n",
    "    user=\"postgres\",\n",
    "    password=\"\",\n",
    "    host=\"\",\n",
    "    port=\"5432\"\n",
    ")\n",
    "cur = conn.cursor()"
   ]
  },
  {
   "cell_type": "markdown",
   "metadata": {},
   "source": [
    "### Interpolation algorithms results"
   ]
  },
  {
   "cell_type": "code",
   "execution_count": 7,
   "metadata": {},
   "outputs": [],
   "source": [
    "# ORDINARY_KRIGING\n",
    "with arcpy.EnvManager(scratchWorkspace=arcpy.env.workspace):\n",
    "    out_surface_raster = arcpy.sa.Kriging(\n",
    "        in_point_features=\"IEM_temp_data\",\n",
    "        z_field=\"Cumulative_GDD\",\n",
    "        kriging_model=\"Spherical # # # #\",\n",
    "        cell_size=0.0218500823959998,\n",
    "        search_radius=\"VARIABLE 12\",\n",
    "        out_variance_prediction_raster=None\n",
    "    )\n",
    "    out_surface_raster.save(arcpy.env.workspace + \"\\\\Kriging_ord\")"
   ]
  },
  {
   "cell_type": "code",
   "execution_count": 9,
   "metadata": {},
   "outputs": [],
   "source": [
    "# UNIVERSAL_KRIGING\n",
    "with arcpy.EnvManager(scratchWorkspace=arcpy.env.workspace):\n",
    "    out_surface_raster = arcpy.sa.Kriging(\n",
    "        in_point_features=\"IEM_temp_data\",\n",
    "        z_field=\"Cumulative_GDD\",\n",
    "        kriging_model=\"LinearDrift 0.021850 # # #\",\n",
    "        cell_size=0.0218500823959998,\n",
    "        search_radius=\"VARIABLE 12\",\n",
    "        out_variance_prediction_raster=None\n",
    "    )\n",
    "    out_surface_raster.save(arcpy.env.workspace + \"\\\\Kriging_uni\")"
   ]
  },
  {
   "cell_type": "code",
   "execution_count": 10,
   "metadata": {},
   "outputs": [],
   "source": [
    "# IDW\n",
    "with arcpy.EnvManager(scratchWorkspace=arcpy.env.workspace):\n",
    "    out_raster = arcpy.sa.Idw(\n",
    "        in_point_features=\"IEM_temp_data\",\n",
    "        z_field=\"Cumulative_GDD\",\n",
    "        cell_size=0.0218500823959998,\n",
    "        power=2,\n",
    "        search_radius=\"VARIABLE 12\",\n",
    "        in_barrier_polyline_features=None\n",
    "    )\n",
    "    out_raster.save(arcpy.env.workspace + \"\\\\Idw\")"
   ]
  },
  {
   "cell_type": "markdown",
   "metadata": {},
   "source": [
    "### Soil Moisture\n",
    "Soil Moisture data was download from NASA SMAP by Google Earth Engine\n",
    "\n"
   ]
  },
  {
   "cell_type": "code",
   "execution_count": 7,
   "metadata": {},
   "outputs": [],
   "source": [
    "SM = \"Soil Moisture MN.tif\""
   ]
  },
  {
   "cell_type": "markdown",
   "metadata": {},
   "source": [
    "### Saves the rasters results to PostGIS\n",
    "In this process, several steps are involved:\n",
    "\n",
    "1. Converting the raster to points.\n",
    "2. Clipping the points using the Minnesota boundary.\n",
    "3. Employing Bernoulli sampling to sample the points.\n",
    "    - Due to the extensive dataset size, uploading to AGOL would be impacted.\n",
    "4. Saving the final points into a PostGIS database."
   ]
  },
  {
   "cell_type": "code",
   "execution_count": 17,
   "metadata": {},
   "outputs": [],
   "source": [
    "def bernoulli_sampling(input_point_data, sampling_ratio):\n",
    "    # iterate through the points and apply Bernoulli sampling\n",
    "    with arcpy.da.UpdateCursor(input_point_data, [\"OID@\"]) as cursor:\n",
    "        for row in cursor:\n",
    "            # generate a random number between 0 and 1\n",
    "            random_value = random.random()\n",
    "            # if the random value is greater than or equal to the sampling ratio, delete the point\n",
    "            if random_value >= sampling_ratio:\n",
    "                cursor.deleteRow()\n",
    "\n",
    "def raster_pts_SDE(input_raster, output_pt_name, sampling_ratio):\n",
    "    # convert raster to point\n",
    "    arcpy.conversion.RasterToPoint(\n",
    "        in_raster=input_raster,\n",
    "        out_point_features=output_pt_name,\n",
    "        raster_field=\"Value\")\n",
    "    \n",
    "    # clip the data by MN boundary\n",
    "    clipped_data = arcpy.analysis.Clip(\n",
    "        in_features=output_pt_name,\n",
    "        clip_features=\"state_of_minnesota\",\n",
    "        out_feature_class=f\"samp_{output_pt_name}\",\n",
    "        cluster_tolerance=None\n",
    "    )\n",
    "\n",
    "    # perform Bernoulli sampling on the clipped point data\n",
    "    bernoulli_sampling(clipped_data, sampling_ratio)\n",
    "    \n",
    "    # save data to PostGIS    \n",
    "    arcpy.conversion.FeatureClassToGeodatabase(\n",
    "        Input_Features= clipped_data,\n",
    "        Output_Geodatabase=\"\\\\PostgreSQL-34-gis5572(postgres).sde\")\n",
    "    \n",
    "    print(f\"{input_raster} has been converted to points and stored into SDE as {os.path.basename(clipped_data.getOutput(0))}.\")\n",
    "\n"
   ]
  },
  {
   "cell_type": "code",
   "execution_count": 18,
   "metadata": {},
   "outputs": [
    {
     "name": "stdout",
     "output_type": "stream",
     "text": [
      "Idw has been converted to points and stored into SDE as samp_AGDD_Idw.\n",
      "Kriging_ord has been converted to points and stored into SDE as samp_AGDD_Kriging_ord.\n",
      "Kriging_uni has been converted to points and stored into SDE as samp_AGDD_Kriging_uni.\n"
     ]
    }
   ],
   "source": [
    "# execute the function\n",
    "rasters = [\"Idw\", \"Kriging_ord\", \"Kriging_uni\"]\n",
    "\n",
    "for raster in rasters:\n",
    "\n",
    "    input_raster = raster\n",
    "    output_pt_name = f\"AGDD_{raster}\"\n",
    "    sampling_ratio = 0.1  \n",
    "    raster_pts_SDE(input_raster, output_pt_name, sampling_ratio)"
   ]
  },
  {
   "cell_type": "code",
   "execution_count": 19,
   "metadata": {},
   "outputs": [
    {
     "name": "stdout",
     "output_type": "stream",
     "text": [
      "Soil Moisture MN.tif has been converted to points and stored into SDE as samp_Soil_Moisture.\n"
     ]
    }
   ],
   "source": [
    "# soil moisture \n",
    "input_raster = \"Soil Moisture MN.tif\"\n",
    "output_pt_name = \"Soil_Moisture\"\n",
    "sampling_ratio = 0.1  \n",
    "\n",
    "raster_pts_SDE(input_raster, output_pt_name, sampling_ratio)"
   ]
  },
  {
   "cell_type": "code",
   "execution_count": null,
   "metadata": {},
   "outputs": [],
   "source": []
  }
 ],
 "metadata": {
  "kernelspec": {
   "display_name": "ArcGISPro",
   "language": "Python",
   "name": "python3"
  },
  "language_info": {
   "file_extension": ".py",
   "name": "python",
   "version": "3"
  }
 },
 "nbformat": 4,
 "nbformat_minor": 2
}
