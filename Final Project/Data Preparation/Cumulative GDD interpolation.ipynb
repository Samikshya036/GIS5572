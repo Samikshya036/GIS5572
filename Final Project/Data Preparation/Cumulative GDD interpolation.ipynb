{
 "cells": [
  {
   "cell_type": "code",
   "execution_count": 1,
   "metadata": {},
   "outputs": [],
   "source": [
    "import arcpy\n",
    "import pandas as pd\n",
    "import os"
   ]
  },
  {
   "cell_type": "markdown",
   "metadata": {},
   "source": [
    "### Import the csv file and convert it to XY table to point"
   ]
  },
  {
   "cell_type": "code",
   "execution_count": 2,
   "metadata": {},
   "outputs": [
    {
     "data": {
      "text/html": [
       "<div class='gpresult'><h2>Messages</h2><div id='messages' data-messages='[\"Start Time: Monday, April 22, 2024 9:49:48 PM\",\"Succeeded at Monday, April 22, 2024 9:49:55 PM (Elapsed Time: 6.98 seconds)\"]' data-show='true'><div id = 'default' /></div></div>"
      ],
      "text/plain": [
       "<Result 'C:\\\\Users\\\\samik\\\\OneDrive\\\\Documents\\\\ArcGIS\\\\Projects\\\\Final project GIS5572\\\\Final project GIS5572.gdb\\\\combined_data_0930_XYTableToPoint'>"
      ]
     },
     "execution_count": 2,
     "metadata": {},
     "output_type": "execute_result"
    }
   ],
   "source": [
    "arcpy.management.XYTableToPoint(\n",
    "    in_table=\"combined_data_0930.csv\",\n",
    "    out_feature_class=r\"C:\\Users\\samik\\OneDrive\\Documents\\ArcGIS\\Projects\\Final project GIS5572\\Final project GIS5572.gdb\\combined_data_0930_XYTableToPoint\",\n",
    "    x_field=\"X\",\n",
    "    y_field=\"Y\",\n",
    "    z_field=\"Cumulative_GDD\",\n",
    "    coordinate_system='GEOGCS[\"GCS_WGS_1984\",DATUM[\"D_WGS_1984\",SPHEROID[\"WGS_1984\",6378137.0,298.257223563]],PRIMEM[\"Greenwich\",0.0],UNIT[\"Degree\",0.0174532925199433]],VERTCS[\"WGS_1984\",DATUM[\"D_WGS_1984\",SPHEROID[\"WGS_1984\",6378137.0,298.257223563]],PARAMETER[\"Vertical_Shift\",0.0],PARAMETER[\"Direction\",1.0],UNIT[\"Meter\",1.0]];-400 -400 1000000000;-100000 10000;-100000 10000;8.98315284119521E-09;0.001;0.001;IsHighPrecision'\n",
    ")"
   ]
  },
  {
   "cell_type": "code",
   "execution_count": 3,
   "metadata": {},
   "outputs": [],
   "source": [
    "### Interpolation of those datasets"
   ]
  },
  {
   "cell_type": "code",
   "execution_count": 4,
   "metadata": {},
   "outputs": [],
   "source": [
    "# IDW\n",
    "with arcpy.EnvManager(scratchWorkspace=r\"C:\\Users\\samik\\OneDrive\\Documents\\ArcGIS\\Projects\\Final project GIS5572\\Final project GIS5572.gdb\"):\n",
    "    out_raster = arcpy.sa.Idw(\n",
    "        in_point_features=\"combined_data_0930_XYTableToPoint\",\n",
    "        z_field=\"Cumulative_GDD\",\n",
    "        cell_size=0.0218500823959998,\n",
    "        power=2,\n",
    "        search_radius=\"VARIABLE 12\",\n",
    "        in_barrier_polyline_features=None\n",
    "    )\n",
    "    out_raster.save(r\"C:\\Users\\samik\\OneDrive\\Documents\\ArcGIS\\Projects\\Final project GIS5572\\Final project GIS5572.gdb\\Idw_combined1\")"
   ]
  },
  {
   "cell_type": "code",
   "execution_count": 5,
   "metadata": {},
   "outputs": [],
   "source": [
    "#Krigging Ordinary\n",
    "with arcpy.EnvManager(scratchWorkspace=r\"C:\\Users\\samik\\OneDrive\\Documents\\ArcGIS\\Projects\\Final project GIS5572\\Final project GIS5572.gdb\"):\n",
    "    out_surface_raster = arcpy.sa.Kriging(\n",
    "        in_point_features=\"combined_data_0930_XYTableToPoint\",\n",
    "        z_field=\"Cumulative_GDD\",\n",
    "        kriging_model=\"Spherical 0.021850 # # #\",\n",
    "        cell_size=0.0218500823959998,\n",
    "        search_radius=\"VARIABLE 12\",\n",
    "        out_variance_prediction_raster=None\n",
    "    )\n",
    "    out_surface_raster.save(r\"C:\\Users\\samik\\OneDrive\\Documents\\ArcGIS\\Projects\\Final project GIS5572\\Final project GIS5572.gdb\\Kriging_comb1\")"
   ]
  },
  {
   "cell_type": "code",
   "execution_count": 6,
   "metadata": {},
   "outputs": [],
   "source": [
    "#Krigging Universal\n",
    "with arcpy.EnvManager(scratchWorkspace=r\"C:\\Users\\samik\\OneDrive\\Documents\\ArcGIS\\Projects\\Final project GIS5572\\Final project GIS5572.gdb\"):\n",
    "    out_surface_raster = arcpy.sa.Kriging(\n",
    "        in_point_features=\"combined_data_0930_XYTableToPoint\",\n",
    "        z_field=\"Cumulative_GDD\",\n",
    "        kriging_model=\"LinearDrift 0.021850 # # #\",\n",
    "        cell_size=0.0218500823959998,\n",
    "        search_radius=\"VARIABLE 12\",\n",
    "        out_variance_prediction_raster=None\n",
    "    )\n",
    "    out_surface_raster.save(r\"C:\\Users\\samik\\OneDrive\\Documents\\ArcGIS\\Projects\\Final project GIS5572\\Final project GIS5572.gdb\\Kriging_comb2\")"
   ]
  },
  {
   "cell_type": "markdown",
   "metadata": {},
   "source": [
    "### Raster to point"
   ]
  },
  {
   "cell_type": "code",
   "execution_count": 7,
   "metadata": {},
   "outputs": [
    {
     "data": {
      "text/html": [
       "<div class='gpresult'><h2>Messages</h2><div id='messages' data-messages='[\"Start Time: Monday, April 22, 2024 9:50:18 PM\",\"Succeeded at Monday, April 22, 2024 9:50:22 PM (Elapsed Time: 3.96 seconds)\"]' data-show='true'><div id = 'default' /></div></div>"
      ],
      "text/plain": [
       "<Result 'C:\\\\Users\\\\samik\\\\OneDrive\\\\Documents\\\\ArcGIS\\\\Projects\\\\Final project GIS5572\\\\Final project GIS5572.gdb\\\\RasterT_Kriging2'>"
      ]
     },
     "execution_count": 7,
     "metadata": {},
     "output_type": "execute_result"
    }
   ],
   "source": [
    "arcpy.conversion.RasterToPoint(\n",
    "    in_raster=\"Idw_combined1\",\n",
    "    out_point_features=r\"C:\\Users\\samik\\OneDrive\\Documents\\ArcGIS\\Projects\\Final project GIS5572\\Final project GIS5572.gdb\\RasterT_Idw_com1\",\n",
    "    raster_field=\"Value\"\n",
    ")\n",
    "arcpy.conversion.RasterToPoint(\n",
    "    in_raster=\"Kriging_comb1\",\n",
    "    out_point_features=r\"C:\\Users\\samik\\OneDrive\\Documents\\ArcGIS\\Projects\\Final project GIS5572\\Final project GIS5572.gdb\\RasterT_Kriging1\",\n",
    "    raster_field=\"Value\"\n",
    ")\n",
    "arcpy.conversion.RasterToPoint(\n",
    "    in_raster=\"Kriging_comb2\",\n",
    "    out_point_features=r\"C:\\Users\\samik\\OneDrive\\Documents\\ArcGIS\\Projects\\Final project GIS5572\\Final project GIS5572.gdb\\RasterT_Kriging2\",\n",
    "    raster_field=\"Value\"\n",
    ")"
   ]
  },
  {
   "cell_type": "markdown",
   "metadata": {},
   "source": [
    "### Exploratory analysis"
   ]
  },
  {
   "cell_type": "code",
   "execution_count": 8,
   "metadata": {},
   "outputs": [
    {
     "data": {
      "text/html": [
       "<div class='gpresult'><h2>Messages</h2><div id='messages' data-messages='[\"Start Time: Monday, April 22, 2024 9:50:22 PM\",\"Calculating Simple Kriging – Default\",\"Calculating Simple Kriging – Optimized\",\"Calculating Simple Kriging – Trend\",\"Calculating Simple Kriging – Trend and transformation\",\"Calculating Ordinary Kriging – Default\",\"Calculating Ordinary Kriging – Optimized\",\"Calculating Universal Kriging – Default\",\"Calculating Universal Kriging – Optimized\",\" \\n\",\"------------------------------------------------\",\"RANK | NAME\",\"------------------------------------------------\",\"\\n\",\"1    | Universal Kriging – Optimized\",\"\\n\",\"2    | Universal Kriging – Default\",\"\\n\",\"3    | Simple Kriging – Trend\",\"\\n\",\"4    | Simple Kriging – Trend and transformation\",\"\\n\",\"5    | Ordinary Kriging – Optimized\",\"\\n\",\"6    | Simple Kriging – Optimized\",\"\\n\",\"7    | Ordinary Kriging – Default\",\"\\n\",\"8    | Simple Kriging – Default\",\"------------------------------------------------\",\"Succeeded at Monday, April 22, 2024 9:51:55 PM (Elapsed Time: 1 minutes 33 seconds)\"]' data-show='true'><div id = 'default' /></div></div>"
      ],
      "text/plain": [
       "<Result 'C:\\\\Users\\\\samik\\\\OneDrive\\\\Documents\\\\ArcGIS\\\\Projects\\\\Final project GIS5572\\\\Final project GIS5572.gdb\\\\ExploratoryInterpolation2'>"
      ]
     },
     "execution_count": 8,
     "metadata": {},
     "output_type": "execute_result"
    }
   ],
   "source": [
    "\n",
    "arcpy.ga.ExploratoryInterpolation(\n",
    "    in_features=\"RasterT_Idw_com1\",\n",
    "    value_field=\"pointid\",\n",
    "    out_cv_table=r\"C:\\Users\\samik\\OneDrive\\Documents\\ArcGIS\\Projects\\Final project GIS5572\\Final project GIS5572.gdb\\ExploratoryInterpolation2\",\n",
    "    out_geostat_layer=None,\n",
    "    interp_methods=\"SIMPLE_KRIGING;ORDINARY_KRIGING;UNIVERSAL_KRIGING\",\n",
    "    comparison_method=\"SINGLE\",\n",
    "    criterion=\"ACCURACY\",\n",
    "    criteria_hierarchy=\"ACCURACY PERCENT #\",\n",
    "    weighted_criteria=\"ACCURACY 1\",\n",
    "    exclusion_criteria=None\n",
    ")"
   ]
  },
  {
   "cell_type": "code",
   "execution_count": null,
   "metadata": {},
   "outputs": [],
   "source": []
  }
 ],
 "metadata": {
  "kernelspec": {
   "display_name": "ArcGISPro",
   "language": "Python",
   "name": "python3"
  },
  "language_info": {
   "file_extension": ".py",
   "name": "python",
   "version": "3"
  }
 },
 "nbformat": 4,
 "nbformat_minor": 2
}
