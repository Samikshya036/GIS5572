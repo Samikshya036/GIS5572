{
 "cells": [
  {
   "cell_type": "markdown",
   "metadata": {},
   "source": [
    "###  Sending best ET model to Postgis\n",
    "  -We will also add other models to postgis just to save the datasets\n",
    "\n"
   ]
  },
  {
   "cell_type": "markdown",
   "metadata": {},
   "source": [
    "### Since IDW Model seems like a best fit amongst others we are using IDW for our map and sending this to postgis."
   ]
  },
  {
   "cell_type": "code",
   "execution_count": 7,
   "metadata": {},
   "outputs": [
    {
     "name": "stdout",
     "output_type": "stream",
     "text": [
      "ET2023_Idw converted to point\n",
      "ET2023_Idw_point pushed to database\n"
     ]
    }
   ],
   "source": [
    "import arcpy\n",
    "import os\n",
    "\n",
    "# Function to convert raster to point and push to database\n",
    "def point_and_push(raster_name, local_gdb_path, geodatabase_path):\n",
    "    # Convert raster to point data\n",
    "    arcpy.conversion.RasterToPoint(\n",
    "        in_raster=os.path.join(local_gdb_path, raster_name),\n",
    "        out_point_features=os.path.join(local_gdb_path, raster_name + '_point'),\n",
    "        raster_field=\"Value\"\n",
    "    )\n",
    "    print(f\"{raster_name} converted to point\")\n",
    "\n",
    "    # Push point data to remote database\n",
    "    arcpy.conversion.FeatureClassToGeodatabase(\n",
    "        os.path.join(local_gdb_path, raster_name + '_point'),\n",
    "        geodatabase_path\n",
    "    )\n",
    "    print(f\"{raster_name}_point pushed to database\")\n",
    "\n",
    "# Paths\n",
    "local_gdb_path = r\"C:\\Users\\samik\\OneDrive\\Documents\\ArcGIS\\Projects\\Final project ET\\Final project ET.gdb\"\n",
    "geodatabase_path = r\"C:\\Users\\samik\\OneDrive\\Documents\\ArcGIS\\Projects\\Final project ET\\PostgreSQL-34-gis5572(postgres).sde\"\n",
    "\n",
    "# Interpolation raster names\n",
    "interpolation_rasters = [\n",
    "    \"ET2023_Idw\"]\n",
    "\n",
    "# Convert each raster to point and push to the database\n",
    "for raster_name in interpolation_rasters:\n",
    "    point_and_push(raster_name, local_gdb_path, geodatabase_path)\n"
   ]
  },
  {
   "cell_type": "markdown",
   "metadata": {},
   "source": [
    "### wanted to validate geometry"
   ]
  },
  {
   "cell_type": "code",
   "execution_count": 8,
   "metadata": {},
   "outputs": [
    {
     "name": "stdout",
     "output_type": "stream",
     "text": [
      "ET2023_Idw converted to point\n",
      "ET2023_Idw_point pushed to database\n"
     ]
    },
    {
     "data": {
      "text/html": [
       "<div class='gpresult'><h2>Messages</h2><div id='messages' data-messages='[\"Start Time: Thursday, May 2, 2024 2:04:21 PM\",\"Succeeded at Thursday, May 2, 2024 2:04:22 PM (Elapsed Time: 1.05 seconds)\"]' data-show='true'><div id = 'default' /></div></div>"
      ],
      "text/plain": [
       "<Result 'C:\\\\Users\\\\samik\\\\OneDrive\\\\Documents\\\\ArcGIS\\\\Projects\\\\Final project ET\\\\Final project ET.gdb\\\\ET2023_Idw_point'>"
      ]
     },
     "execution_count": 8,
     "metadata": {},
     "output_type": "execute_result"
    }
   ],
   "source": [
    "\n",
    "def validate_geometry(point_feature_class):\n",
    "    # Repair geometry if necessary\n",
    "    arcpy.management.RepairGeometry(point_feature_class, \"DELETE_NULL\")\n",
    "\n",
    "# Call this function before pushing to database\n",
    "validate_geometry(os.path.join(local_gdb_path, raster_name + '_point'))\n",
    "def set_spatial_reference(point_feature_class, srid):\n",
    "    # Define the spatial reference using the SRID\n",
    "    spatial_ref = arcpy.SpatialReference(srid)\n",
    "    arcpy.management.DefineProjection(point_feature_class, spatial_ref)\n",
    "\n",
    "# Example usage: Assuming SRID 4326 for WGS 84\n",
    "set_spatial_reference(os.path.join(local_gdb_path, raster_name + '_point'), 4326)\n",
    "arcpy.AddMessage(\"Starting conversion...\")\n",
    "try:\n",
    "    point_and_push(raster_name, local_gdb_path, geodatabase_path)\n",
    "except Exception as e:\n",
    "    arcpy.AddError(str(e))\n",
    "arcpy.AddMessage(\"Completed conversion...\")\n",
    "\n",
    "arcpy.conversion.RasterToPoint(\n",
    "    in_raster=os.path.join(local_gdb_path, raster_name),\n",
    "    out_point_features=os.path.join(local_gdb_path, raster_name + '_point'),\n",
    "    raster_field=\"Value\"\n",
    ")\n"
   ]
  },
  {
   "cell_type": "markdown",
   "metadata": {},
   "source": [
    "### Pushing Krigging ordinary and Krigging Universal just to save the datasets. "
   ]
  },
  {
   "cell_type": "code",
   "execution_count": 10,
   "metadata": {},
   "outputs": [
    {
     "name": "stdout",
     "output_type": "stream",
     "text": [
      "ET2023_ord_krigging converted to point\n",
      "ET2023_ord_krigging_point pushed to database\n",
      "ET2023_uni_krigging converted to point\n",
      "ET2023_uni_krigging_point pushed to database\n"
     ]
    }
   ],
   "source": [
    "import arcpy\n",
    "import os\n",
    "\n",
    "# Function to convert raster to point and push to database\n",
    "def point_and_push(raster_name, local_gdb_path, geodatabase_path):\n",
    "    # Convert raster to point data\n",
    "    arcpy.conversion.RasterToPoint(\n",
    "        in_raster=os.path.join(local_gdb_path, raster_name),\n",
    "        out_point_features=os.path.join(local_gdb_path, raster_name + '_point'),\n",
    "        raster_field=\"Value\"\n",
    "    )\n",
    "    print(f\"{raster_name} converted to point\")\n",
    "\n",
    "    # Push point data to remote database\n",
    "    arcpy.conversion.FeatureClassToGeodatabase(\n",
    "        os.path.join(local_gdb_path, raster_name + '_point'),\n",
    "        geodatabase_path\n",
    "    )\n",
    "    print(f\"{raster_name}_point pushed to database\")\n",
    "\n",
    "# Paths\n",
    "local_gdb_path = r\"C:\\Users\\samik\\OneDrive\\Documents\\ArcGIS\\Projects\\Final project ET\\Final project ET.gdb\"\n",
    "geodatabase_path = r\"C:\\Users\\samik\\OneDrive\\Documents\\ArcGIS\\Projects\\Final project ET\\PostgreSQL-34-gis5572(postgres).sde\"\n",
    "\n",
    "# Interpolation raster names\n",
    "interpolation_rasters = [\n",
    "    \"ET2023_ord_krigging\",\n",
    "    \"ET2023_uni_krigging\"]\n",
    "\n",
    "# Convert each raster to point and push to the database\n",
    "for raster_name in interpolation_rasters:\n",
    "    point_and_push(raster_name, local_gdb_path, geodatabase_path)\n"
   ]
  },
  {
   "cell_type": "code",
   "execution_count": null,
   "metadata": {},
   "outputs": [],
   "source": []
  }
 ],
 "metadata": {
  "kernelspec": {
   "display_name": "ArcGISPro",
   "language": "Python",
   "name": "python3"
  },
  "language_info": {
   "file_extension": ".py",
   "name": "python",
   "version": "3"
  }
 },
 "nbformat": 4,
 "nbformat_minor": 2
}
