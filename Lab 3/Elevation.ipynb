{
 "cells": [
  {
   "cell_type": "markdown",
   "metadata": {},
   "source": [
    "#### Samiksya Subedi\n",
    "#### Elevation data interpolation\n",
    "#### This notebook creates 3 interpolation methods inelevation data and determines best interpolation methods. "
   ]
  },
  {
   "cell_type": "code",
   "execution_count": 1,
   "metadata": {},
   "outputs": [],
   "source": [
    "import arcpy\n",
    "import requests\n",
    "import zipfile\n",
    "import os\n",
    "import json\n",
    "import pandas as pd\n",
    "import psycopg2\n",
    "from psycopg2 import sql\n",
    "from io import StringIO\n",
    "import arcgis\n",
    "from arcgis.features import GeoAccessor, GeoSeriesAccessor"
   ]
  },
  {
   "cell_type": "markdown",
   "metadata": {},
   "source": [
    "#### Connecting  to postgis and getting elevation points"
   ]
  },
  {
   "cell_type": "code",
   "execution_count": 2,
   "metadata": {},
   "outputs": [],
   "source": [
    "sde_connection = r\"C:\\Users\\samik\\OneDrive\\Documents\\ArcGIS\\Projects\\Lab3\\PostgreSQL-34-gis5572(postgres).sde\"\n",
    "elevation = r'C:\\Users\\samik\\OneDrive\\Documents\\ArcGIS\\Projects\\Lab 2\\gis5572_points_in_sde_clip'\n",
    "output_directory = r\"C:\\Users\\samik\\OneDrive\\Documents\\ArcGIS\\Projects\\Lab3\"\n",
    "output_gdb = r\"C:\\Users\\samik\\OneDrive\\Documents\\ArcGIS\\Projects\\Lab3\\Lab3.gdb\""
   ]
  },
  {
   "cell_type": "markdown",
   "metadata": {},
   "source": [
    "### Creating a subset of original data"
   ]
  },
  {
   "cell_type": "code",
   "execution_count": 3,
   "metadata": {},
   "outputs": [
    {
     "data": {
      "text/html": [
       "<div class='gpresult'><h2>Messages</h2><div id='messages' data-messages='[\"Start Time: Thursday, April 11, 2024 2:40:35 PM\",\"gis5572_points_in_sde_Clip Successfully converted:  C:\\\\Users\\\\samik\\\\OneDrive\\\\Documents\\\\ArcGIS\\\\Projects\\\\Lab3\\\\gis5572_points_in_sde_Clip.shp\",\"Succeeded at Thursday, April 11, 2024 2:40:37 PM (Elapsed Time: 1.97 seconds)\"]' data-show='true'><div id = 'default' /></div></div>"
      ],
      "text/plain": [
       "<Result 'C:\\\\Users\\\\samik\\\\OneDrive\\\\Documents\\\\ArcGIS\\\\Projects\\\\Lab3'>"
      ]
     },
     "execution_count": 3,
     "metadata": {},
     "output_type": "execute_result"
    }
   ],
   "source": [
    "arcpy.conversion.FeatureClassToShapefile(\n",
    "    Input_Features=\"gis5572_points_in_sde_Clip\",\n",
    "    Output_Folder=r\"C:\\Users\\samik\\OneDrive\\Documents\\ArcGIS\\Projects\\Lab3\"\n",
    ")"
   ]
  },
  {
   "cell_type": "code",
   "execution_count": 4,
   "metadata": {},
   "outputs": [],
   "source": [
    "import arcpy\n",
    "import numpy as np\n",
    "\n",
    "# Set workspace environment\n",
    "arcpy.env.workspace = r\"C:\\Users\\samik\\OneDrive\\Documents\\ArcGIS\\Projects\\Lab3\"\n",
    "\n",
    "# Input feature class\n",
    "input_features = \"gis5572_points_in_sde_Clip\"\n",
    "\n",
    "# Output folder\n",
    "output_folder = r\"C:\\Users\\samik\\OneDrive\\Documents\\ArcGIS\\Projects\\Lab3\"\n",
    "\n",
    "# Convert feature class to shapefile\n",
    "arcpy.conversion.FeatureClassToShapefile(input_features, output_folder)\n",
    "\n",
    "# Count the total number of features in the input feature class\n",
    "total_count = int(arcpy.management.GetCount(input_features)[0])\n",
    "\n",
    "# Number of features to select\n",
    "num_to_select = 25  # Change this number according to requirement\n",
    "\n",
    "# Generate random object IDs to select\n",
    "rand_ids = [str(i) for i in range(1, total_count + 1)]\n",
    "selected_ids = set(np.random.choice(rand_ids, num_to_select, replace=False))\n",
    "\n",
    "# Create a query to select features with selected object IDs\n",
    "query = f\"OBJECTID IN ({','.join(selected_ids)})\"\n",
    "\n",
    "# Create a new feature layer with selected features\n",
    "subset_feature_layer = arcpy.management.MakeFeatureLayer(input_features, \"elevation_points\", query)\n",
    "\n"
   ]
  },
  {
   "cell_type": "markdown",
   "metadata": {},
   "source": [
    "### Interpolation"
   ]
  },
  {
   "cell_type": "code",
   "execution_count": 9,
   "metadata": {},
   "outputs": [],
   "source": [
    "import arcpy\n",
    "\n",
    "# IDW\n",
    "with arcpy.EnvManager(mask=\"Minnesota_shapefile\"):\n",
    "    arcpy.ddd.Idw(\n",
    "        in_point_features=\"elevation_points\",\n",
    "        z_field=\"pointid\",\n",
    "        out_raster=r\"C:\\Users\\samik\\OneDrive\\Documents\\ArcGIS\\Projects\\Lab3elevation\\Lab3elevation.gdb\\Idw_ele\",\n",
    "        cell_size=2160,\n",
    "        power=2,\n",
    "        search_radius=\"VARIABLE 12\",\n",
    "        in_barrier_polyline_features=None\n",
    "    )\n",
    "\n",
    "# Ordinary Kriging\n",
    "with arcpy.EnvManager(mask=\"Minnesota_shapefile\", scratchWorkspace=r\"C:\\Users\\samik\\OneDrive\\Documents\\ArcGIS\\Projects\\Lab3elevation\\Lab3elevation.gdb\"):\n",
    "    out_surface_raster = arcpy.sa.Kriging(\n",
    "        in_point_features=\"elevation_points\",\n",
    "        z_field=\"pointid\",\n",
    "        kriging_model=\"Spherical # # # #\",\n",
    "        cell_size=2160,\n",
    "        search_radius=\"VARIABLE 12\",\n",
    "        out_variance_prediction_raster=None\n",
    "    )\n",
    "    out_surface_raster.save(r\"C:\\Users\\samik\\OneDrive\\Documents\\ArcGIS\\Projects\\Lab3elevation\\Lab3elevation.gdb\\Kriging_ele\")\n",
    "\n",
    "# Universal Kriging\n",
    "with arcpy.EnvManager(mask=\"Minnesota_shapefile\", scratchWorkspace=r\"C:\\Users\\samik\\OneDrive\\Documents\\ArcGIS\\Projects\\Lab3elevation\\Lab3elevation.gdb\"):\n",
    "    out_surface_raster = arcpy.sa.Kriging(\n",
    "        in_point_features=\"elevation_points\",\n",
    "        z_field=\"pointid\",\n",
    "        kriging_model=\"LinearDrift 2160.000000 # # #\",\n",
    "        cell_size=2160,\n",
    "        search_radius=\"VARIABLE 12\",\n",
    "        out_variance_prediction_raster=None\n",
    "    )\n",
    "    out_surface_raster.save(r\"C:\\Users\\samik\\OneDrive\\Documents\\ArcGIS\\Projects\\Lab3elevation\\Lab3elevation.gdb\\Kriging_uniele\")\n"
   ]
  },
  {
   "cell_type": "markdown",
   "metadata": {},
   "source": [
    "### Accuracy assesment"
   ]
  },
  {
   "cell_type": "code",
   "execution_count": 6,
   "metadata": {},
   "outputs": [
    {
     "data": {
      "text/html": [
       "<div class='gpresult'><h2>Messages</h2><div id='messages' data-messages='[\"Start Time: Thursday, April 11, 2024 2:41:14 PM\",\"Calculating Simple Kriging – Default\",\"Calculating Simple Kriging – Optimized\",\"Calculating Simple Kriging – Trend\",\"Calculating Simple Kriging – Trend and transformation\",\"Calculating Ordinary Kriging – Default\",\"Calculating Ordinary Kriging – Optimized\",\"Calculating Universal Kriging – Default\",\"Calculating Universal Kriging – Optimized\",\" \\n\",\"------------------------------------------------\",\"RANK | NAME\",\"------------------------------------------------\",\"\\n\",\"1    | Universal Kriging – Optimized\",\"\\n\",\"2    | Universal Kriging – Default\",\"\\n\",\"3    | Simple Kriging – Trend\",\"\\n\",\"4    | Simple Kriging – Trend and transformation\",\"\\n\",\"5    | Ordinary Kriging – Default\",\"\\n\",\"6    | Ordinary Kriging – Optimized\",\"\\n\",\"7    | Simple Kriging – Optimized\",\"\\n\",\"8    | Simple Kriging – Default\",\"------------------------------------------------\",\"Succeeded at Thursday, April 11, 2024 2:41:25 PM (Elapsed Time: 11.26 seconds)\"]' data-show='true'><div id = 'default' /></div></div>"
      ],
      "text/plain": [
       "<Result 'C:\\\\Users\\\\samik\\\\OneDrive\\\\Documents\\\\ArcGIS\\\\Projects\\\\Lab3elevation\\\\Lab3elevation.gdb\\\\Accuracyelevation'>"
      ]
     },
     "execution_count": 6,
     "metadata": {},
     "output_type": "execute_result"
    }
   ],
   "source": [
    "arcpy.ga.ExploratoryInterpolation(\n",
    "    in_features=\"elevation_points\",\n",
    "    value_field=\"pointid\",\n",
    "    out_cv_table=r\"C:\\Users\\samik\\OneDrive\\Documents\\ArcGIS\\Projects\\Lab3elevation\\Lab3elevation.gdb\\Accuracyelevation\",\n",
    "    out_geostat_layer=None,\n",
    "    interp_methods=\"SIMPLE_KRIGING;ORDINARY_KRIGING;UNIVERSAL_KRIGING\",\n",
    "    comparison_method=\"SINGLE\",\n",
    "    criterion=\"ACCURACY\",\n",
    "    criteria_hierarchy=\"ACCURACY PERCENT #\",\n",
    "    weighted_criteria=\"ACCURACY 1\",\n",
    "    exclusion_criteria=None\n",
    ")"
   ]
  },
  {
   "cell_type": "markdown",
   "metadata": {},
   "source": [
    "### Push Accuracy assesment to remote database"
   ]
  },
  {
   "cell_type": "code",
   "execution_count": 15,
   "metadata": {},
   "outputs": [
    {
     "name": "stdout",
     "output_type": "stream",
     "text": [
      "Accuracyelevation table pushed to PostGIS.\n"
     ]
    }
   ],
   "source": [
    "import arcpy\n",
    "\n",
    "# Set the workspace environment\n",
    "arcpy.env.workspace = r\"C:\\Users\\samik\\OneDrive\\Documents\\ArcGIS\\Projects\\Lab3\\PostgreSQL-34-gis5572(postgres).sde\"\n",
    "\n",
    "# Define the output table\n",
    "out_table = r\"C:\\Users\\samik\\OneDrive\\Documents\\ArcGIS\\Projects\\Lab3elevation\\Lab3elevation.gdb\\Accuracyelevation\"\n",
    "\n",
    "# Define the output table name in the PostGIS database\n",
    "table_name = \"Accuracyelevation\"\n",
    "\n",
    "# Define connection parameters for PostGIS\n",
    "db_connection = r\"C:\\Users\\samik\\OneDrive\\Documents\\ArcGIS\\Projects\\Lab3\\PostgreSQL-34-gis5572(postgres).sde\"\n",
    "\n",
    "# Copy the rows directly to the PostGIS database\n",
    "arcpy.CopyRows_management(out_table, db_connection + \"\\\\\" + table_name)\n",
    "\n",
    "# Print confirmation\n",
    "print(\"Accuracyelevation table pushed to PostGIS.\")\n"
   ]
  },
  {
   "cell_type": "markdown",
   "metadata": {},
   "source": [
    "### Raster to point and sending it to postgis"
   ]
  },
  {
   "cell_type": "code",
   "execution_count": 10,
   "metadata": {},
   "outputs": [],
   "source": [
    "### IDW\n",
    "import arcpy\n",
    "\n",
    "# Step 1: Downsample Raster\n",
    "def downsample_raster(input_raster, output_raster, cell_size):\n",
    "    arcpy.Resample_management(input_raster, output_raster, cell_size)\n",
    "\n",
    "# Step 2: Convert Raster to Points\n",
    "def raster_to_points(input_raster, output_points):\n",
    "    arcpy.RasterToPoint_conversion(input_raster, output_points, \"VALUE\")\n",
    "\n",
    "# Step 3: Upload Points to SDE\n",
    "def upload_points_to_sde(input_points, output_sde_connection, output_sde_feature_class):\n",
    "    arcpy.FeatureClassToFeatureClass_conversion(input_points, output_sde_connection, output_sde_feature_class)\n",
    "\n",
    "# Paths and parameters\n",
    "input_raster = r'C:\\Users\\samik\\OneDrive\\Documents\\ArcGIS\\Projects\\Lab3elevation\\Lab3elevation.gdb\\Idw_ele'\n",
    "output_downsampled_raster = r'C:\\Users\\samik\\OneDrive\\Documents\\ArcGIS\\Projects\\Lab3elevation\\downsampled_idwele.tif'\n",
    "output_points = r'C:\\Users\\samik\\OneDrive\\Documents\\ArcGIS\\Projects\\Lab3elevation\\\\idwele.shp'\n",
    "output_sde_connection = r'C:\\Users\\samik\\OneDrive\\Documents\\ArcGIS\\Projects\\Lab 2\\PostgreSQL-34-gis5572(postgres).sde'\n",
    "output_sde_feature_class = 'idwpoints_in_sde'\n",
    "\n",
    "# Step 1: Downsample Raster\n",
    "downsample_raster(input_raster, output_downsampled_raster, \"15000\")\n",
    "\n",
    "# Step 2: Convert Raster to Points\n",
    "raster_to_points(output_downsampled_raster, output_points)\n",
    "\n",
    "# Step 3: Upload Points to SDE\n",
    "upload_points_to_sde(output_points, output_sde_connection, output_sde_feature_class)\n"
   ]
  },
  {
   "cell_type": "code",
   "execution_count": 12,
   "metadata": {},
   "outputs": [],
   "source": [
    "## Ordinaru krigging\n",
    "# Step 1: Downsample Raster\n",
    "def downsample_raster(input_raster, output_raster, cell_size):\n",
    "    arcpy.Resample_management(input_raster, output_raster, cell_size)\n",
    "\n",
    "# Step 2: Convert Raster to Points\n",
    "def raster_to_points(input_raster, output_points):\n",
    "    arcpy.RasterToPoint_conversion(input_raster, output_points, \"VALUE\")\n",
    "\n",
    "# Step 3: Upload Points to SDE\n",
    "def upload_points_to_sde(input_points, output_sde_connection, output_sde_feature_class):\n",
    "    arcpy.FeatureClassToFeatureClass_conversion(input_points, output_sde_connection, output_sde_feature_class)\n",
    "\n",
    "# Paths and parameters\n",
    "input_raster = r'C:\\Users\\samik\\OneDrive\\Documents\\ArcGIS\\Projects\\Lab3elevation\\Lab3elevation.gdb\\Kriging_ele'\n",
    "output_downsampled_raster = r'C:\\Users\\samik\\OneDrive\\Documents\\ArcGIS\\Projects\\Lab3elevation\\downsampled_krigele.tif'\n",
    "output_points = r'C:\\Users\\samik\\OneDrive\\Documents\\ArcGIS\\Projects\\Lab3elevation\\\\krigele.shp'\n",
    "output_sde_connection = r'C:\\Users\\samik\\OneDrive\\Documents\\ArcGIS\\Projects\\Lab 2\\PostgreSQL-34-gis5572(postgres).sde'\n",
    "output_sde_feature_class = 'krigpoints'\n",
    "\n",
    "# Step 1: Downsample Raster\n",
    "downsample_raster(input_raster, output_downsampled_raster, \"15000\")\n",
    "\n",
    "# Step 2: Convert Raster to Points\n",
    "raster_to_points(output_downsampled_raster, output_points)\n",
    "\n",
    "# Step 3: Upload Points to SDE\n",
    "upload_points_to_sde(output_points, output_sde_connection, output_sde_feature_class)\n"
   ]
  },
  {
   "cell_type": "code",
   "execution_count": 13,
   "metadata": {},
   "outputs": [],
   "source": [
    "#Universal Krigging\n",
    "# Step 1: Downsample Raster\n",
    "def downsample_raster(input_raster, output_raster, cell_size):\n",
    "    arcpy.Resample_management(input_raster, output_raster, cell_size)\n",
    "\n",
    "# Step 2: Convert Raster to Points\n",
    "def raster_to_points(input_raster, output_points):\n",
    "    arcpy.RasterToPoint_conversion(input_raster, output_points, \"VALUE\")\n",
    "\n",
    "# Step 3: Upload Points to SDE\n",
    "def upload_points_to_sde(input_points, output_sde_connection, output_sde_feature_class):\n",
    "    arcpy.FeatureClassToFeatureClass_conversion(input_points, output_sde_connection, output_sde_feature_class)\n",
    "\n",
    "# Paths and parameters\n",
    "input_raster = r'C:\\Users\\samik\\OneDrive\\Documents\\ArcGIS\\Projects\\Lab3elevation\\Lab3elevation.gdb\\Kriging_uniele'\n",
    "output_downsampled_raster = r'C:\\Users\\samik\\OneDrive\\Documents\\ArcGIS\\Projects\\Lab3elevation\\downsampled_kriguniele.tif'\n",
    "output_points = r'C:\\Users\\samik\\OneDrive\\Documents\\ArcGIS\\Projects\\Lab3elevation\\\\kriguniele.shp'\n",
    "output_sde_connection = r'C:\\Users\\samik\\OneDrive\\Documents\\ArcGIS\\Projects\\Lab 2\\PostgreSQL-34-gis5572(postgres).sde'\n",
    "output_sde_feature_class = 'krigunipoints'\n",
    "\n",
    "# Step 1: Downsample Raster\n",
    "downsample_raster(input_raster, output_downsampled_raster, \"15000\")\n",
    "\n",
    "# Step 2: Convert Raster to Points\n",
    "raster_to_points(output_downsampled_raster, output_points)\n",
    "\n",
    "# Step 3: Upload Points to SDE\n",
    "upload_points_to_sde(output_points, output_sde_connection, output_sde_feature_class)\n"
   ]
  },
  {
   "cell_type": "code",
   "execution_count": null,
   "metadata": {},
   "outputs": [],
   "source": []
  }
 ],
 "metadata": {
  "kernelspec": {
   "display_name": "ArcGISPro",
   "language": "Python",
   "name": "python3"
  },
  "language_info": {
   "file_extension": ".py",
   "name": "python",
   "version": "3"
  }
 },
 "nbformat": 4,
 "nbformat_minor": 2
}
