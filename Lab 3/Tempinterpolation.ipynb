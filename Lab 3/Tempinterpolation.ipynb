{
 "cells": [
  {
   "cell_type": "markdown",
   "metadata": {},
   "source": [
    "#### Samiksya Subedi\n",
    "#### Temperature data interpolation\n",
    "#### This notebook creates 3 interpolation methods in temperature data and determines best interpolation methods. "
   ]
  },
  {
   "cell_type": "code",
   "execution_count": 1,
   "metadata": {},
   "outputs": [],
   "source": [
    "import arcpy\n",
    "import requests\n",
    "import zipfile\n",
    "import os\n",
    "import json\n",
    "import pandas as pd\n",
    "import psycopg2\n",
    "from psycopg2 import sql\n",
    "from io import StringIO\n",
    "import arcgis\n",
    "from arcgis.features import GeoAccessor, GeoSeriesAccessor\n"
   ]
  },
  {
   "cell_type": "code",
   "execution_count": 3,
   "metadata": {},
   "outputs": [],
   "source": [
    "# Define Variables and paths\n",
    "output_path = r\"C:\\Users\\samik\\OneDrive\\Documents\\ArcGIS\\Projects\\Lab3\\Lab3.gdb\"\n",
    "working_directory = r\"C:\\Users\\samik\\OneDrive\\Documents\\ArcGIS\\Projects\\Lab3\"\n",
    "db_connection = r\"C:\\Users\\samik\\OneDrive\\Documents\\ArcGIS\\Projects\\Lab3\\PostgreSQL-34-gis5572(postgres).sde\"\n",
    "feature_class_name = \"mn_temp_stations_shp\"  # Corrected variable name\n"
   ]
  },
  {
   "cell_type": "markdown",
   "metadata": {},
   "source": [
    "### Creating a subset of the original temperature data"
   ]
  },
  {
   "cell_type": "code",
   "execution_count": 4,
   "metadata": {},
   "outputs": [
    {
     "data": {
      "text/html": [
       "<div class='gpresult'><h2>Messages</h2><div id='messages' data-messages='[\"Start Time: Thursday, April 11, 2024 1:02:59 PM\",\"Failed to convert: mn_temp_stations_shp. ERROR 000210: Cannot create output C:\\\\Users\\\\samik\\\\OneDrive\\\\Documents\\\\ArcGIS\\\\Projects\\\\Lab3\\\\mn_temp_stations_shp.shp\\nERROR 000308: Invalid field type\\nFailed to execute (CopyFeatures).\\n\",\"Succeeded at Thursday, April 11, 2024 1:03:00 PM (Elapsed Time: 0.83 seconds)\"]' data-show='true'><div id = 'default' /></div></div>"
      ],
      "text/plain": [
       "<Result 'C:\\\\Users\\\\samik\\\\OneDrive\\\\Documents\\\\ArcGIS\\\\Projects\\\\Lab3'>"
      ]
     },
     "execution_count": 4,
     "metadata": {},
     "output_type": "execute_result"
    }
   ],
   "source": [
    "arcpy.conversion.FeatureClassToShapefile(\n",
    "    Input_Features=\"mn_temp_stations_shp\",\n",
    "    Output_Folder=r\"C:\\Users\\samik\\OneDrive\\Documents\\ArcGIS\\Projects\\Lab3\"\n",
    ")"
   ]
  },
  {
   "cell_type": "code",
   "execution_count": 5,
   "metadata": {},
   "outputs": [],
   "source": [
    "import arcpy\n",
    "import numpy as np\n",
    "\n",
    "# Set workspace environment\n",
    "arcpy.env.workspace = r\"C:\\Users\\samik\\OneDrive\\Documents\\ArcGIS\\Projects\\Lab3\"\n",
    "\n",
    "# Input feature class\n",
    "input_features = \"mn_temp_stations_shp\"\n",
    "\n",
    "# Output folder\n",
    "output_folder = r\"C:\\Users\\samik\\OneDrive\\Documents\\ArcGIS\\Projects\\Lab3\"\n",
    "\n",
    "# Convert feature class to shapefile\n",
    "arcpy.conversion.FeatureClassToShapefile(input_features, output_folder)\n",
    "\n",
    "# Count the total number of features in the input feature class\n",
    "total_count = int(arcpy.management.GetCount(input_features)[0])\n",
    "\n",
    "# Number of features to select\n",
    "num_to_select = 25  # Change this number according to your requirement\n",
    "\n",
    "# Generate random object IDs to select\n",
    "rand_ids = [str(i) for i in range(1, total_count + 1)]\n",
    "selected_ids = set(np.random.choice(rand_ids, num_to_select, replace=False))\n",
    "\n",
    "# Create a query to select features with selected object IDs\n",
    "query = f\"OBJECTID IN ({','.join(selected_ids)})\"\n",
    "\n",
    "# Create a new feature layer with selected features\n",
    "subset_feature_layer = arcpy.management.MakeFeatureLayer(input_features, \"subset_feature_layer\", query)\n",
    "\n"
   ]
  },
  {
   "cell_type": "markdown",
   "metadata": {},
   "source": [
    "### Interpolation"
   ]
  },
  {
   "cell_type": "code",
   "execution_count": 16,
   "metadata": {},
   "outputs": [
    {
     "data": {
      "text/html": [
       "<div class='gpresult'><h2>Messages</h2><div id='messages' data-messages='[\"Start Time: Thursday, April 11, 2024 1:13:57 PM\",\"LINEAR DRIFT\\nLag size\\t\\t= 0.021850\\nPartial sill\\t= 7.348274\\nNugget\\t\\t= 0.000000\\nMajor range\\t= 0.000000\",\"Succeeded at Thursday, April 11, 2024 1:14:03 PM (Elapsed Time: 6.18 seconds)\"]' data-show='true'><div id = 'default' /></div></div>"
      ],
      "text/plain": [
       "<Result 'C:\\\\Users\\\\samik\\\\OneDrive\\\\Documents\\\\ArcGIS\\\\Projects\\\\MyProject21\\\\MyProject21.gdb\\\\Kriging_mn_universal'>"
      ]
     },
     "execution_count": 16,
     "metadata": {},
     "output_type": "execute_result"
    }
   ],
   "source": [
    "# Interpolate the temperature using 3 methods: IDW, Kriging, and GPI\n",
    "\n",
    "arcpy.ddd.Idw(\n",
    "    in_point_features=\"subset_feature_layer\",\n",
    "    z_field=\"max_tmpf\",\n",
    "    out_raster=r\"C:\\Users\\samik\\OneDrive\\Documents\\ArcGIS\\Projects\\MyProject21\\MyProject21.gdb\\Idw_mn_temp_1\",\n",
    "    cell_size=30000,\n",
    "    power=2,\n",
    "    search_radius=\"VARIABLE 12\",\n",
    "    in_barrier_polyline_features=None\n",
    ")\n",
    "arcpy.ddd.Kriging(\n",
    "    in_point_features=\"subset_feature_layer\",\n",
    "    z_field=\"max_tmpf\",\n",
    "    out_surface_raster=r\"C:\\Users\\samik\\OneDrive\\Documents\\ArcGIS\\Projects\\MyProject21\\MyProject21.gdb\\Kriging_mn_t2\",\n",
    "    semiVariogram_props=\"Linear 0.021850 # # #\",\n",
    "    cell_size=500,\n",
    "    search_radius=\"VARIABLE 12\",\n",
    "    out_variance_prediction_raster=None\n",
    ")\n",
    "arcpy.ddd.Kriging(\n",
    "    in_point_features=\"subset_feature_layer\",\n",
    "    z_field=\"max_tmpf\",\n",
    "    out_surface_raster=r\"C:\\Users\\samik\\OneDrive\\Documents\\ArcGIS\\Projects\\MyProject21\\MyProject21.gdb\\Kriging_mn_universal\",\n",
    "    semiVariogram_props=\"LinearDrift 0.021850 # # #\",\n",
    "    cell_size=1000,\n",
    "    search_radius=\"VARIABLE 12\",\n",
    "    out_variance_prediction_raster=None\n",
    ")"
   ]
  },
  {
   "cell_type": "markdown",
   "metadata": {},
   "source": [
    "### Accuracy assesment"
   ]
  },
  {
   "cell_type": "code",
   "execution_count": 13,
   "metadata": {},
   "outputs": [
    {
     "data": {
      "text/html": [
       "<div class='gpresult'><h2>Messages</h2><div id='messages' data-messages='[\"Start Time: Thursday, April 11, 2024 1:13:03 PM\",\"Calculating Simple Kriging – Default\",\"Calculating Simple Kriging – Optimized\",\"Calculating Simple Kriging – Trend\",\"Calculating Simple Kriging – Trend and transformation\",\"Calculating Ordinary Kriging – Default\",\"Calculating Ordinary Kriging – Optimized\",\"Calculating Universal Kriging – Default\",\"Calculating Universal Kriging – Optimized\",\" \\n\",\"------------------------------------------------\",\"RANK | NAME\",\"------------------------------------------------\",\"\\n\",\"1    | Simple Kriging – Trend\",\"\\n\",\"2    | Simple Kriging – Trend and transformation\",\"\\n\",\"3    | Ordinary Kriging – Optimized\",\"\\n\",\"4    | Simple Kriging – Optimized\",\"\\n\",\"5    | Universal Kriging – Optimized\",\"\\n\",\"6    | Universal Kriging – Default\",\"\\n\",\"7    | Ordinary Kriging – Default\",\"\\n\",\"8    | Simple Kriging – Default\",\"------------------------------------------------\",\"Succeeded at Thursday, April 11, 2024 1:13:06 PM (Elapsed Time: 2.96 seconds)\"]' data-show='true'><div id = 'default' /></div></div>"
      ],
      "text/plain": [
       "<Result 'C:\\\\Users\\\\samik\\\\OneDrive\\\\Documents\\\\ArcGIS\\\\Projects\\\\MyProject21\\\\MyProject21.gdb\\\\TempExploratoryInterpolation'>"
      ]
     },
     "execution_count": 13,
     "metadata": {},
     "output_type": "execute_result"
    }
   ],
   "source": [
    "arcpy.ga.ExploratoryInterpolation(\n",
    "    in_features=\"subset_feature_layer\",\n",
    "    value_field=\"max_tmpf\",\n",
    "    out_cv_table=r\"C:\\Users\\samik\\OneDrive\\Documents\\ArcGIS\\Projects\\MyProject21\\MyProject21.gdb\\TempExploratoryInterpolation\",\n",
    "    out_arcpy.ddd.Kriging(\n",
    "    in_point_features=\"subset_feature_layer\",\n",
    "    z_field=\"max_tmpf\",\n",
    "    out_surface_raster=r\"C:\\Users\\samik\\OneDrive\\Documents\\ArcGIS\\Projects\\MyProject21\\MyProject21.gdb\\Kriging_mn_t2\",\n",
    "    semiVariogram_props=\"Linear 0.021850 # # #\",\n",
    "    cell_size=500,\n",
    "    search_radius=\"VARIABLE 12\",\n",
    "    out_variance_prediction_raster=None\n",
    ")geostat_layer=None,\n",
    "    interp_methods=\"SIMPLE_KRIGING;ORDINARY_KRIGING;UNIVERSAL_KRIGING\",\n",
    "    comparison_method=\"SINGLE\",\n",
    "    criterion=\"ACCURACY\",\n",
    "    criteria_hierarchy=\"ACCURACY PERCENT #\",\n",
    "    weighted_criteria=\"ACCURACY 1\",\n",
    "    exclusion_criteria=None\n",
    ")\n"
   ]
  },
  {
   "cell_type": "markdown",
   "metadata": {},
   "source": [
    "### Push accuracy assesment to geodatabase"
   ]
  },
  {
   "cell_type": "code",
   "execution_count": 21,
   "metadata": {},
   "outputs": [
    {
     "name": "stdout",
     "output_type": "stream",
     "text": [
      "Accuracy assessment table pushed to PostGIS.\n"
     ]
    }
   ],
   "source": [
    "import arcpy\n",
    "\n",
    "# Set the workspace environment\n",
    "arcpy.env.workspace = r\"C:\\Users\\samik\\OneDrive\\Documents\\ArcGIS\\Projects\\Lab3\\PostgreSQL-34-gis5572(postgres).sde\"\n",
    "\n",
    "# Define the output table\n",
    "out_table = r\"C:\\Users\\samik\\OneDrive\\Documents\\ArcGIS\\Projects\\MyProject21\\MyProject21.gdb\\TempExploratoryInterpolation\"\n",
    "\n",
    "# Define the output table name in the PostGIS database\n",
    "table_name = \"AccuracyAssessmentTable\"\n",
    "\n",
    "# Define connection parameters for PostGIS\n",
    "db_connection = r\"C:\\Users\\samik\\OneDrive\\Documents\\ArcGIS\\Projects\\Lab3\\PostgreSQL-34-gis5572(postgres).sde\"\n",
    "\n",
    "# Copy the rows directly to the PostGIS database\n",
    "arcpy.CopyRows_management(out_table, db_connection + \"\\\\\" + table_name)\n",
    "\n",
    "# Print confirmation\n",
    "print(\"Accuracy assessment table pushed to PostGIS.\")\n"
   ]
  },
  {
   "cell_type": "markdown",
   "metadata": {},
   "source": [
    "### Raster to points and send it to postgis "
   ]
  },
  {
   "cell_type": "code",
   "execution_count": 14,
   "metadata": {},
   "outputs": [],
   "source": [
    "# Step 2: Upload Points to SDE\n",
    "#upload_points_to_sde(output_points, output_sde_connection, output_sde_feature_class)\n"
   ]
  },
  {
   "cell_type": "code",
   "execution_count": 17,
   "metadata": {},
   "outputs": [
    {
     "name": "stdout",
     "output_type": "stream",
     "text": [
      "Idw_mn_temp_1 converted to point\n",
      "Idw_mn_temp_1_point pushed to database\n",
      "Kriging_mn_t2 converted to point\n",
      "Kriging_mn_t2_point pushed to database\n",
      "Kriging_mn_universal converted to point\n",
      "Kriging_mn_universal_point pushed to database\n"
     ]
    }
   ],
   "source": [
    "import arcpy\n",
    "import os\n",
    "\n",
    "# Function to convert raster to point and push to database\n",
    "def point_and_push(raster_name, local_gdb_path, geodatabase_path):\n",
    "    # Convert raster to point data\n",
    "    arcpy.conversion.RasterToPoint(\n",
    "        in_raster=os.path.join(local_gdb_path, raster_name),\n",
    "        out_point_features=os.path.join(local_gdb_path, raster_name + '_point'),\n",
    "        raster_field=\"Value\"\n",
    "    )\n",
    "    print(f\"{raster_name} converted to point\")\n",
    "\n",
    "    # Push point data to remote database\n",
    "    arcpy.conversion.FeatureClassToGeodatabase(\n",
    "        os.path.join(local_gdb_path, raster_name + '_point'),\n",
    "        geodatabase_path\n",
    "    )\n",
    "    print(f\"{raster_name}_point pushed to database\")\n",
    "\n",
    "# Paths\n",
    "local_gdb_path = r\"C:\\Users\\samik\\OneDrive\\Documents\\ArcGIS\\Projects\\MyProject21\\MyProject21.gdb\"\n",
    "geodatabase_path = r\"C:\\Users\\samik\\OneDrive\\Documents\\ArcGIS\\Projects\\Lab3\\PostgreSQL-34-gis5572(postgres).sde\"\n",
    "\n",
    "# Interpolation raster names\n",
    "interpolation_rasters = [\n",
    "    \"Idw_mn_temp_1\",\n",
    "    \"Kriging_mn_t2\",\n",
    "    \"Kriging_mn_universal\"\n",
    "]\n",
    "\n",
    "# Convert each raster to point and push to the database\n",
    "for raster_name in interpolation_rasters:\n",
    "    point_and_push(raster_name, local_gdb_path, geodatabase_path)\n"
   ]
  },
  {
   "cell_type": "code",
   "execution_count": null,
   "metadata": {},
   "outputs": [],
   "source": []
  }
 ],
 "metadata": {
  "kernelspec": {
   "display_name": "ArcGISPro",
   "language": "Python",
   "name": "python3"
  },
  "language_info": {
   "file_extension": ".py",
   "name": "python",
   "version": "3"
  }
 },
 "nbformat": 4,
 "nbformat_minor": 2
}
