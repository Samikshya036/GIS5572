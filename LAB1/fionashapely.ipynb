{
 "cells": [
  {
   "cell_type": "markdown",
   "id": "c4b73e0b-096e-4474-a24d-e662a1d7a88c",
   "metadata": {},
   "source": [
    "## Create a feature class for point, line and polygon"
   ]
  },
  {
   "cell_type": "code",
   "execution_count": 17,
   "id": "ad1665df-1d5c-42db-bb3d-5951472d36a7",
   "metadata": {},
   "outputs": [],
   "source": [
    "import fiona\n",
    "from shapely.geometry import Point, LineString, Polygon, mapping\n",
    "from fiona.crs import from_epsg\n",
    "\n",
    "# File names for the feature classes\n",
    "point_file = 'points.shp'\n",
    "line_file = 'line.shp'\n",
    "polygon_file = 'polygon.shp'\n",
    "\n",
    "# Define schema for the feature classes\n",
    "point_schema = {'geometry': 'Point', 'properties': {'id': 'int'}}\n",
    "line_schema = {'geometry': 'LineString', 'properties': {'id': 'int'}}\n",
    "polygon_schema = {'geometry': 'Polygon', 'properties': {'id': 'int'}}\n",
    "\n",
    "# Create and add to point feature class\n",
    "with fiona.open(point_file, 'w', 'ESRI Shapefile', point_schema, crs=from_epsg(4326)) as output_point:\n",
    "    for idx, point_coords in enumerate([(-93.22773898145596, 44.974068636239615), (-93.18973295365898, 44.94326043904516)], start=1):\n",
    "        point = Point(point_coords)\n",
    "        output_point.write({'geometry': mapping(point), 'properties': {'id': idx}})\n",
    "\n",
    "# Create and add to line feature class\n",
    "with fiona.open(line_file, 'w', 'ESRI Shapefile', line_schema, crs=from_epsg(4326)) as output_line:\n",
    "    line_coords = [(-93.22773898145596, 44.974068636239615), (-93.18973295365898, 44.94326043904516)]\n",
    "    line = LineString(line_coords)\n",
    "    \n",
    "# Create and add to polygon feature class\n",
    "with fiona.open(polygon_file, 'w', 'ESRI Shapefile', polygon_schema, crs=from_epsg(4326)) as output_polygon:\n",
    "    polygon_coords = [(-93.22773898145596, 44.974068636239615), (-93.18973295365898, 44.94326043904516), (-93.17042775766252, 44.988360414486756), (-93.35274409842755, 45.09143303212043)]\n",
    "    polygon = Polygon(polygon_coords)\n"
   ]
  },
  {
   "cell_type": "markdown",
   "id": "5f1dad97-41ed-45b7-8556-f1d47ed2b784",
   "metadata": {},
   "source": [
    "## View each row in an attribute table"
   ]
  },
  {
   "cell_type": "code",
   "execution_count": 18,
   "id": "703064eb-1f0f-4289-a3df-dda0a9775f06",
   "metadata": {},
   "outputs": [
    {
     "name": "stdout",
     "output_type": "stream",
     "text": [
      "Attribute table for points.shp:\n",
      "OrderedDict([('id', 1)])\n",
      "OrderedDict([('id', 2)])\n",
      "Attribute table for line.shp:\n",
      "Attribute table for polygon.shp:\n"
     ]
    }
   ],
   "source": [
    "\n",
    "# Function to view attribute table\n",
    "def view_attribute_table(filename):\n",
    "    # Open the shapefile\n",
    "    with fiona.open(filename, 'r') as shapefile:\n",
    "        print(f\"Attribute table for {filename}:\")\n",
    "        # Iterate over each feature\n",
    "        for feature in shapefile:\n",
    "            # Access properties of the feature\n",
    "            properties = feature['properties']\n",
    "            print(properties)\n",
    "\n",
    "# View attribute table for each feature class\n",
    "view_attribute_table(point_file)\n",
    "view_attribute_table(line_file)\n",
    "view_attribute_table(polygon_file)\n"
   ]
  },
  {
   "cell_type": "markdown",
   "id": "5953cc56-83f1-4455-9983-addcd0113241",
   "metadata": {},
   "source": [
    "## View Geometry object in a feature class"
   ]
  },
  {
   "cell_type": "code",
   "execution_count": 19,
   "id": "772fba56-e56e-4450-b590-9d24fb3ab4e2",
   "metadata": {},
   "outputs": [
    {
     "name": "stdout",
     "output_type": "stream",
     "text": [
      "Geometry objects for points.shp:\n",
      "POINT (-93.22773898145596 44.974068636239615)\n",
      "POINT (-93.18973295365898 44.94326043904516)\n",
      "Geometry objects for line.shp:\n",
      "Geometry objects for polygon.shp:\n"
     ]
    }
   ],
   "source": [
    "import fiona\n",
    "from shapely.geometry import shape\n",
    "\n",
    "# File names for the feature classes\n",
    "point_file = 'points.shp'\n",
    "line_file = 'line.shp'\n",
    "polygon_file = 'polygon.shp'\n",
    "\n",
    "# View geometry objects for point feature class\n",
    "print(\"Geometry objects for points.shp:\")\n",
    "with fiona.open(point_file, 'r') as shapefile:\n",
    "    for feature in shapefile:\n",
    "        geometry = shape(feature['geometry'])\n",
    "        print(geometry)\n",
    "\n",
    "# View geometry objects for line feature class\n",
    "print(\"Geometry objects for line.shp:\")\n",
    "with fiona.open(line_file, 'r') as shapefile:\n",
    "    for feature in shapefile:\n",
    "        geometry = shape(feature['geometry'])\n",
    "        print(geometry)\n",
    "\n",
    "# View geometry objects for polygon feature class\n",
    "print(\"Geometry objects for polygon.shp:\")\n",
    "with fiona.open(polygon_file, 'r') as shapefile:\n",
    "    for feature in shapefile:\n",
    "        geometry = shape(feature['geometry'])\n",
    "        print(geometry)\n"
   ]
  },
  {
   "cell_type": "markdown",
   "id": "9a3a5421-01bc-493f-8768-ddf67d226a0a",
   "metadata": {},
   "source": [
    "## Summarize the content of a feature class"
   ]
  },
  {
   "cell_type": "code",
   "execution_count": 20,
   "id": "a9888290-6f0d-4a57-af6c-76b65417c5ec",
   "metadata": {},
   "outputs": [
    {
     "name": "stdout",
     "output_type": "stream",
     "text": [
      "Summary of points.shp:\n",
      "Number of features: 2\n",
      "Geometry types: {'Point'}\n",
      "Properties (attributes):\n",
      " - id\n",
      "Summary of line.shp:\n",
      "Number of features: 0\n",
      "Geometry types: set()\n",
      "Properties (attributes):\n",
      " - id\n",
      "Summary of polygon.shp:\n",
      "Number of features: 0\n",
      "Geometry types: set()\n",
      "Properties (attributes):\n",
      " - id\n"
     ]
    }
   ],
   "source": [
    "import fiona\n",
    "\n",
    "# Function to summarize the contents of a feature class\n",
    "def summarize_feature_class(filename):\n",
    "    print(f\"Summary of {filename}:\")\n",
    "    with fiona.open(filename, 'r') as shapefile:\n",
    "        # Get the number of features\n",
    "        num_features = len(shapefile)\n",
    "        print(f\"Number of features: {num_features}\")\n",
    "        \n",
    "        # Get unique geometry types\n",
    "        geometry_types = set([feature['geometry']['type'] for feature in shapefile])\n",
    "        print(f\"Geometry types: {geometry_types}\")\n",
    "        \n",
    "        # Get properties (attributes) of features\n",
    "        if shapefile.schema['properties']:\n",
    "            properties = shapefile.schema['properties']\n",
    "            print(\"Properties (attributes):\")\n",
    "            for prop_name in properties:\n",
    "                print(f\" - {prop_name}\")\n",
    "\n",
    "# Summarize the contents of each feature class\n",
    "summarize_feature_class(point_file)\n",
    "summarize_feature_class(line_file)\n",
    "summarize_feature_class(polygon_file)\n"
   ]
  },
  {
   "cell_type": "markdown",
   "id": "0ba410b1-e16b-463e-9e2d-9226414eaeb3",
   "metadata": {},
   "source": [
    "## Export to shape file "
   ]
  },
  {
   "cell_type": "code",
   "execution_count": 22,
   "id": "3543738a-9e33-44cc-add3-acc2f71799b6",
   "metadata": {},
   "outputs": [],
   "source": [
    "# Create and add to point feature class\n",
    "with fiona.open(point_file, 'w', 'ESRI Shapefile', point_schema, crs=from_epsg(4326)) as output_point:\n",
    "    for idx, point_coords in enumerate([(-93.22773898145596, 44.974068636239615), (-93.18973295365898, 44.94326043904516)], start=1):\n",
    "        point = Point(point_coords)\n",
    "        output_point.write({'geometry': mapping(point), 'properties': {'id': idx}})\n",
    "# Create and add to line feature class\n",
    "with fiona.open(line_file, 'w', 'ESRI Shapefile', line_schema, crs=from_epsg(4326)) as output_line:\n",
    "    line_coords = [(-93.22773898145596, 44.974068636239615), (-93.18973295365898, 44.94326043904516)]\n",
    "    line = LineString(line_coords)\n",
    "    output_line.write({'geometry': mapping(line), 'properties': {'id': 1}})\n",
    "# Create and add to polygon feature class\n",
    "with fiona.open(polygon_file, 'w', 'ESRI Shapefile', polygon_schema, crs=from_epsg(4326)) as output_polygon:\n",
    "    polygon_coords = [(-93.22773898145596, 44.974068636239615), (-93.18973295365898, 44.94326043904516), (-93.17042775766252, 44.988360414486756), (-93.35274409842755, 45.09143303212043)]\n",
    "    polygon = Polygon(polygon_coords)\n",
    "    output_polygon.write({'geometry': mapping(polygon), 'properties': {'id': 1}})\n"
   ]
  },
  {
   "cell_type": "code",
   "execution_count": null,
   "id": "3bd3fb78-813b-4064-9e7d-cb0339e95d7c",
   "metadata": {},
   "outputs": [],
   "source": []
  }
 ],
 "metadata": {
  "kernelspec": {
   "display_name": "Python 3 (ipykernel)",
   "language": "python",
   "name": "python3"
  },
  "language_info": {
   "codemirror_mode": {
    "name": "ipython",
    "version": 3
   },
   "file_extension": ".py",
   "mimetype": "text/x-python",
   "name": "python",
   "nbconvert_exporter": "python",
   "pygments_lexer": "ipython3",
   "version": "3.9.7"
  }
 },
 "nbformat": 4,
 "nbformat_minor": 5
}
